{
  "nbformat": 4,
  "nbformat_minor": 0,
  "metadata": {
    "colab": {
      "name": "손현진_수행평가.ipynb",
      "provenance": []
    },
    "kernelspec": {
      "name": "python3",
      "display_name": "Python 3"
    },
    "language_info": {
      "name": "python"
    }
  },
  "cells": [
    {
      "cell_type": "code",
      "execution_count": null,
      "metadata": {
        "id": "1P3lCgkR1Rtd"
      },
      "outputs": [],
      "source": [
        "from tensorflow.keras.datasets   import boston_housing , mnist , fashion_mnist\n",
        "from tensorflow.keras.models     import Sequential , clone_model , Model , load_model\n",
        "from tensorflow.keras.layers     import Dense , Activation , InputLayer , Flatten , Input , BatchNormalization , Dropout , Embedding\n",
        "\n",
        "# CNN\n",
        "from tensorflow.keras.layers     import Conv2D , MaxPooling2D , AveragePooling2D\n",
        "\n",
        "from tensorflow.keras            import optimizers  \n",
        "from tensorflow.keras.callbacks  import EarlyStopping , ModelCheckpoint , Callback\n",
        "from tensorflow.keras.optimizers import SGD , Adam , RMSprop\n",
        "\n",
        "# 이미지 로드\n",
        "from tensorflow.keras.preprocessing import image\n",
        "from tensorflow.keras.preprocessing.image import ImageDataGenerator \n",
        "\n",
        "# 자연어 처리\n",
        "from tensorflow.keras.preprocessing.text          import Tokenizer\n",
        "from tensorflow.keras.preprocessing.sequence      import pad_sequences\n",
        "\n",
        "from keras.utils.np_utils      import to_categorical\n",
        "\n",
        "from sklearn.datasets          import load_iris , load_breast_cancer , load_digits\n",
        "from sklearn.model_selection   import train_test_split\n",
        "\n",
        "import matplotlib.pyplot as plt\n",
        "\n",
        "import numpy  as np\n",
        "import pandas as pd\n"
      ]
    },
    {
      "cell_type": "code",
      "source": [
        "(X_train,y_train), (X_test,y_test) = mnist.load_data()\n",
        "(X_train.shape, y_train.shape), (X_test.shape,y_test.shape)"
      ],
      "metadata": {
        "colab": {
          "base_uri": "https://localhost:8080/"
        },
        "id": "FZny8r6GQcJd",
        "outputId": "73f3bb89-a81a-4ac3-95f4-e23d12a7afaf"
      },
      "execution_count": null,
      "outputs": [
        {
          "output_type": "stream",
          "name": "stdout",
          "text": [
            "Downloading data from https://storage.googleapis.com/tensorflow/tf-keras-datasets/mnist.npz\n",
            "11493376/11490434 [==============================] - 0s 0us/step\n",
            "11501568/11490434 [==============================] - 0s 0us/step\n"
          ]
        },
        {
          "output_type": "execute_result",
          "data": {
            "text/plain": [
              "(((60000, 28, 28), (60000,)), ((10000, 28, 28), (10000,)))"
            ]
          },
          "metadata": {},
          "execution_count": 2
        }
      ]
    },
    {
      "cell_type": "code",
      "source": [
        "X_train = X_train.reshape(X_train.shape[0],X_train.shape[1],X_train.shape[2],1)\n",
        "X_test = X_test.reshape(X_test.shape[0],X_test.shape[1],X_test.shape[2],1)"
      ],
      "metadata": {
        "id": "Ook3yG8oQnAc"
      },
      "execution_count": null,
      "outputs": []
    },
    {
      "cell_type": "code",
      "source": [
        "(X_train.shape, y_train.shape), (X_test.shape,y_test.shape)"
      ],
      "metadata": {
        "colab": {
          "base_uri": "https://localhost:8080/"
        },
        "id": "o317Ri7JT0E4",
        "outputId": "63c508ff-4a5e-4fab-ddec-f6d5c11cd8d8"
      },
      "execution_count": null,
      "outputs": [
        {
          "output_type": "execute_result",
          "data": {
            "text/plain": [
              "(((60000, 28, 28, 1), (60000,)), ((10000, 28, 28, 1), (10000,)))"
            ]
          },
          "metadata": {},
          "execution_count": 4
        }
      ]
    },
    {
      "cell_type": "code",
      "source": [
        "X_train, X_test = X_train/255.0, X_test/255.0"
      ],
      "metadata": {
        "id": "AZT1BjOmT2B5"
      },
      "execution_count": null,
      "outputs": []
    },
    {
      "cell_type": "code",
      "source": [
        "mnist_cnn_model = Sequential()\n",
        "\n",
        "mnist_cnn_model.add(Conv2D(input_shape = (X_train.shape[1],X_train.shape[2],X_train.shape[3]),\n",
        "                           filters = 32,\n",
        "                           kernel_size = (3,3),\n",
        "                           strides = (1,1),\n",
        "                           padding = 'same',activation = 'relu'))\n",
        "mnist_cnn_model.add(MaxPooling2D(pool_size = (2,2),padding = 'same'))\n",
        "mnist_cnn_model.add(Conv2D(input_shape = (X_train.shape[1],X_train.shape[2],X_train.shape[3]),\n",
        "                           filters = 64,\n",
        "                           kernel_size = (3,3),\n",
        "                           strides = (1,1),\n",
        "                           padding = 'same',activation = 'relu'))\n",
        "mnist_cnn_model.add(MaxPooling2D(pool_size = (2,2),padding = 'same'))\n",
        "mnist_cnn_model.add(Conv2D(input_shape = (X_train.shape[1],X_train.shape[2],X_train.shape[3]),\n",
        "                           filters = 64,\n",
        "                           kernel_size = (3,3),\n",
        "                           strides = (1,1),\n",
        "                           padding = 'same',activation = 'relu'))\n",
        "mnist_cnn_model.add(MaxPooling2D(pool_size = (2,2),padding = 'same'))\n",
        "\n"
      ],
      "metadata": {
        "id": "Y0RJFTH-T6XR"
      },
      "execution_count": null,
      "outputs": []
    },
    {
      "cell_type": "code",
      "source": [
        "mnist_cnn_model.output_shape"
      ],
      "metadata": {
        "colab": {
          "base_uri": "https://localhost:8080/"
        },
        "id": "QqVXn8f9UZ9D",
        "outputId": "c4f9669b-e8a2-4a4c-e71a-f50fb240810f"
      },
      "execution_count": null,
      "outputs": [
        {
          "output_type": "execute_result",
          "data": {
            "text/plain": [
              "(None, 4, 4, 64)"
            ]
          },
          "metadata": {},
          "execution_count": 9
        }
      ]
    },
    {
      "cell_type": "code",
      "source": [
        "print('Dense 층 추가 - ')\n",
        "mnist_cnn_model.add(Flatten())\n",
        "mnist_cnn_model.add(Dense(units = 512))\n",
        "mnist_cnn_model.add(Activation('relu'))\n",
        "mnist_cnn_model.add(Dense(units = 256))\n",
        "mnist_cnn_model.add(Activation('relu'))\n",
        "mnist_cnn_model.add(Dense(units = 128))\n",
        "mnist_cnn_model.add(Activation('relu'))\n",
        "mnist_cnn_model.add(Dense(units = 64))\n",
        "mnist_cnn_model.add(Activation('relu'))\n",
        "\n",
        "mnist_cnn_model.add(Dense(units = 10))\n",
        "mnist_cnn_model.add(Activation('softmax'))"
      ],
      "metadata": {
        "colab": {
          "base_uri": "https://localhost:8080/"
        },
        "id": "IcHrcfYxUg38",
        "outputId": "fcc35d1e-5342-4094-b4e6-6d0a5d7821f6"
      },
      "execution_count": null,
      "outputs": [
        {
          "output_type": "stream",
          "name": "stdout",
          "text": [
            "Dense 층 추가 - \n"
          ]
        }
      ]
    },
    {
      "cell_type": "code",
      "source": [
        "mnist_cnn_model.summary()"
      ],
      "metadata": {
        "colab": {
          "base_uri": "https://localhost:8080/"
        },
        "id": "UWNjLl-mUxEG",
        "outputId": "aedfb48e-0ab6-443e-d122-4e34e1cd6733"
      },
      "execution_count": null,
      "outputs": [
        {
          "output_type": "stream",
          "name": "stdout",
          "text": [
            "Model: \"sequential_2\"\n",
            "_________________________________________________________________\n",
            " Layer (type)                Output Shape              Param #   \n",
            "=================================================================\n",
            " conv2d_1 (Conv2D)           (None, 28, 28, 32)        320       \n",
            "                                                                 \n",
            " max_pooling2d_1 (MaxPooling  (None, 14, 14, 32)       0         \n",
            " 2D)                                                             \n",
            "                                                                 \n",
            " conv2d_2 (Conv2D)           (None, 14, 14, 64)        18496     \n",
            "                                                                 \n",
            " max_pooling2d_2 (MaxPooling  (None, 7, 7, 64)         0         \n",
            " 2D)                                                             \n",
            "                                                                 \n",
            " conv2d_3 (Conv2D)           (None, 7, 7, 64)          36928     \n",
            "                                                                 \n",
            " max_pooling2d_3 (MaxPooling  (None, 4, 4, 64)         0         \n",
            " 2D)                                                             \n",
            "                                                                 \n",
            " flatten (Flatten)           (None, 1024)              0         \n",
            "                                                                 \n",
            " dense (Dense)               (None, 512)               524800    \n",
            "                                                                 \n",
            " activation (Activation)     (None, 512)               0         \n",
            "                                                                 \n",
            " dense_1 (Dense)             (None, 512)               262656    \n",
            "                                                                 \n",
            " activation_1 (Activation)   (None, 512)               0         \n",
            "                                                                 \n",
            " dense_2 (Dense)             (None, 512)               262656    \n",
            "                                                                 \n",
            " activation_2 (Activation)   (None, 512)               0         \n",
            "                                                                 \n",
            " flatten_1 (Flatten)         (None, 512)               0         \n",
            "                                                                 \n",
            " dense_3 (Dense)             (None, 512)               262656    \n",
            "                                                                 \n",
            " activation_3 (Activation)   (None, 512)               0         \n",
            "                                                                 \n",
            " dense_4 (Dense)             (None, 256)               131328    \n",
            "                                                                 \n",
            " activation_4 (Activation)   (None, 256)               0         \n",
            "                                                                 \n",
            " dense_5 (Dense)             (None, 128)               32896     \n",
            "                                                                 \n",
            " activation_5 (Activation)   (None, 128)               0         \n",
            "                                                                 \n",
            " dense_6 (Dense)             (None, 64)                8256      \n",
            "                                                                 \n",
            " activation_6 (Activation)   (None, 64)                0         \n",
            "                                                                 \n",
            " dense_7 (Dense)             (None, 10)                650       \n",
            "                                                                 \n",
            " activation_7 (Activation)   (None, 10)                0         \n",
            "                                                                 \n",
            "=================================================================\n",
            "Total params: 1,541,642\n",
            "Trainable params: 1,541,642\n",
            "Non-trainable params: 0\n",
            "_________________________________________________________________\n"
          ]
        }
      ]
    },
    {
      "cell_type": "code",
      "source": [
        "mnist_cnn_model.compile(optimizer = Adam(learning_rate = 0.01),\n",
        "                        loss = 'sparse_categorical_crossentropy',\n",
        "                        metrics = ['accuracy'])"
      ],
      "metadata": {
        "id": "BwBFjv1JU3Oo"
      },
      "execution_count": null,
      "outputs": []
    },
    {
      "cell_type": "code",
      "source": [
        "mnist_cnn_model_history = mnist_cnn_model.fit(X_train,y_train,epochs = 12,batch_size = 50,validation_split = 0.2, verbose =1 )"
      ],
      "metadata": {
        "colab": {
          "base_uri": "https://localhost:8080/"
        },
        "id": "MGNy5OvOU_d3",
        "outputId": "9e090567-6897-4912-ce5b-12da42e636bb"
      },
      "execution_count": null,
      "outputs": [
        {
          "output_type": "stream",
          "name": "stdout",
          "text": [
            "Epoch 1/12\n",
            "960/960 [==============================] - 86s 88ms/step - loss: 2.3300 - accuracy: 0.1113 - val_loss: 2.3022 - val_accuracy: 0.1060\n",
            "Epoch 2/12\n",
            "960/960 [==============================] - 98s 102ms/step - loss: 2.3019 - accuracy: 0.1119 - val_loss: 2.3044 - val_accuracy: 0.1060\n",
            "Epoch 3/12\n",
            "960/960 [==============================] - 85s 88ms/step - loss: 2.3021 - accuracy: 0.1122 - val_loss: 2.3039 - val_accuracy: 0.1060\n",
            "Epoch 4/12\n",
            "960/960 [==============================] - 84s 88ms/step - loss: 2.3021 - accuracy: 0.1133 - val_loss: 2.3054 - val_accuracy: 0.0956\n",
            "Epoch 5/12\n",
            "960/960 [==============================] - 84s 88ms/step - loss: 2.3022 - accuracy: 0.1119 - val_loss: 2.3056 - val_accuracy: 0.1060\n",
            "Epoch 6/12\n",
            "960/960 [==============================] - 84s 88ms/step - loss: 2.3020 - accuracy: 0.1121 - val_loss: 2.3044 - val_accuracy: 0.1060\n",
            "Epoch 7/12\n",
            "960/960 [==============================] - 84s 88ms/step - loss: 2.3022 - accuracy: 0.1126 - val_loss: 2.3037 - val_accuracy: 0.1060\n",
            "Epoch 8/12\n",
            "960/960 [==============================] - 84s 88ms/step - loss: 2.3021 - accuracy: 0.1130 - val_loss: 2.3023 - val_accuracy: 0.1060\n",
            "Epoch 9/12\n",
            "960/960 [==============================] - 84s 88ms/step - loss: 2.3022 - accuracy: 0.1125 - val_loss: 2.3032 - val_accuracy: 0.1060\n",
            "Epoch 10/12\n",
            "960/960 [==============================] - 85s 88ms/step - loss: 2.3019 - accuracy: 0.1116 - val_loss: 2.3025 - val_accuracy: 0.1081\n",
            "Epoch 11/12\n",
            "960/960 [==============================] - 85s 88ms/step - loss: 2.3021 - accuracy: 0.1123 - val_loss: 2.3020 - val_accuracy: 0.1060\n",
            "Epoch 12/12\n",
            "960/960 [==============================] - 84s 88ms/step - loss: 2.3021 - accuracy: 0.1117 - val_loss: 2.3030 - val_accuracy: 0.1060\n"
          ]
        }
      ]
    },
    {
      "cell_type": "code",
      "source": [
        "mnist_cnn_model.save('model-case.h12')"
      ],
      "metadata": {
        "colab": {
          "base_uri": "https://localhost:8080/"
        },
        "id": "UXlVgQQQVLp0",
        "outputId": "c93a9e0b-b97e-44e6-aba5-65187e3f27a0"
      },
      "execution_count": null,
      "outputs": [
        {
          "output_type": "stream",
          "name": "stdout",
          "text": [
            "INFO:tensorflow:Assets written to: model-case.h12/assets\n"
          ]
        }
      ]
    },
    {
      "cell_type": "code",
      "source": [
        "loaded_model = load_model('model-case.h12')\n",
        "loaded_model.summary()"
      ],
      "metadata": {
        "colab": {
          "base_uri": "https://localhost:8080/"
        },
        "id": "H804AfWJVij6",
        "outputId": "42f7f416-564f-462b-d3fb-bb05fe6018db"
      },
      "execution_count": null,
      "outputs": [
        {
          "output_type": "stream",
          "name": "stdout",
          "text": [
            "Model: \"sequential_2\"\n",
            "_________________________________________________________________\n",
            " Layer (type)                Output Shape              Param #   \n",
            "=================================================================\n",
            " conv2d_1 (Conv2D)           (None, 28, 28, 32)        320       \n",
            "                                                                 \n",
            " max_pooling2d_1 (MaxPooling  (None, 14, 14, 32)       0         \n",
            " 2D)                                                             \n",
            "                                                                 \n",
            " conv2d_2 (Conv2D)           (None, 14, 14, 64)        18496     \n",
            "                                                                 \n",
            " max_pooling2d_2 (MaxPooling  (None, 7, 7, 64)         0         \n",
            " 2D)                                                             \n",
            "                                                                 \n",
            " conv2d_3 (Conv2D)           (None, 7, 7, 64)          36928     \n",
            "                                                                 \n",
            " max_pooling2d_3 (MaxPooling  (None, 4, 4, 64)         0         \n",
            " 2D)                                                             \n",
            "                                                                 \n",
            " flatten (Flatten)           (None, 1024)              0         \n",
            "                                                                 \n",
            " dense (Dense)               (None, 512)               524800    \n",
            "                                                                 \n",
            " activation (Activation)     (None, 512)               0         \n",
            "                                                                 \n",
            " dense_1 (Dense)             (None, 512)               262656    \n",
            "                                                                 \n",
            " activation_1 (Activation)   (None, 512)               0         \n",
            "                                                                 \n",
            " dense_2 (Dense)             (None, 512)               262656    \n",
            "                                                                 \n",
            " activation_2 (Activation)   (None, 512)               0         \n",
            "                                                                 \n",
            " flatten_1 (Flatten)         (None, 512)               0         \n",
            "                                                                 \n",
            " dense_3 (Dense)             (None, 512)               262656    \n",
            "                                                                 \n",
            " activation_3 (Activation)   (None, 512)               0         \n",
            "                                                                 \n",
            " dense_4 (Dense)             (None, 256)               131328    \n",
            "                                                                 \n",
            " activation_4 (Activation)   (None, 256)               0         \n",
            "                                                                 \n",
            " dense_5 (Dense)             (None, 128)               32896     \n",
            "                                                                 \n",
            " activation_5 (Activation)   (None, 128)               0         \n",
            "                                                                 \n",
            " dense_6 (Dense)             (None, 64)                8256      \n",
            "                                                                 \n",
            " activation_6 (Activation)   (None, 64)                0         \n",
            "                                                                 \n",
            " dense_7 (Dense)             (None, 10)                650       \n",
            "                                                                 \n",
            " activation_7 (Activation)   (None, 10)                0         \n",
            "                                                                 \n",
            "=================================================================\n",
            "Total params: 1,541,642\n",
            "Trainable params: 1,541,642\n",
            "Non-trainable params: 0\n",
            "_________________________________________________________________\n"
          ]
        }
      ]
    },
    {
      "cell_type": "code",
      "source": [
        "loss,acc = loaded_model.evaluate(X_test,y_test)\n",
        "print('loss - ',loss)\n",
        "print('acc  - ',acc)"
      ],
      "metadata": {
        "colab": {
          "base_uri": "https://localhost:8080/"
        },
        "id": "jfm-Rgn9Vwoq",
        "outputId": "ca52801a-9e3d-434f-bbe7-e8454697ac27"
      },
      "execution_count": null,
      "outputs": [
        {
          "output_type": "stream",
          "name": "stdout",
          "text": [
            "313/313 [==============================] - 5s 16ms/step - loss: 2.3017 - accuracy: 0.1135\n",
            "loss -  2.3017377853393555\n",
            "acc  -  0.11349999904632568\n"
          ]
        }
      ]
    },
    {
      "cell_type": "code",
      "source": [
        ""
      ],
      "metadata": {
        "id": "F6XcddoofzIb"
      },
      "execution_count": null,
      "outputs": []
    }
  ]
}