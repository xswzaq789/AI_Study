{
 "cells": [
  {
   "cell_type": "markdown",
   "id": "cd38ea64",
   "metadata": {},
   "source": [
    "#### Pandas\n",
    "\n",
    "- 데이터 조작을 위한 패키지\n",
    "- 데이터 타입 : Series(시계열) , DataFrame(표, 테이블)\n",
    "- Series -> vector , DataFrame -> N-D Array\n",
    "- Series : index + values "
   ]
  },
  {
   "cell_type": "code",
   "execution_count": 209,
   "id": "fbc4708d",
   "metadata": {},
   "outputs": [
    {
     "name": "stdout",
     "output_type": "stream",
     "text": [
      "numpy  version -  1.20.3\n",
      "pandas version -  1.3.4\n"
     ]
    }
   ],
   "source": [
    "import numpy  as np\n",
    "import pandas as pd\n",
    "\n",
    "import warnings\n",
    "warnings.filterwarnings(action='ignore')\n",
    "\n",
    "from datetime import date, datetime, timedelta\n",
    "from dateutil.parser import parse\n",
    "\n",
    "import json\n",
    "import urllib \n",
    "\n",
    "\n",
    "print('numpy  version - ' , np.__version__)\n",
    "print('pandas version - ' , pd.__version__)"
   ]
  },
  {
   "cell_type": "markdown",
   "id": "88261ca4",
   "metadata": {},
   "source": [
    "- Series 생성"
   ]
  },
  {
   "cell_type": "code",
   "execution_count": 19,
   "id": "a607d471",
   "metadata": {},
   "outputs": [
    {
     "name": "stdout",
     "output_type": "stream",
     "text": [
      "list 이용한 생성 - \n",
      "\n",
      "0    4000\n",
      "1    3000\n",
      "2    3500\n",
      "3    2000\n",
      "dtype: object\n",
      "\n",
      "type -  <class 'pandas.core.series.Series'>\n",
      "\n",
      "index , values - \n",
      "index  -  RangeIndex(start=0, stop=4, step=1)\n",
      "value  -  ['4000' 3000 3500 2000] <class 'numpy.ndarray'>\n",
      "dtype  -  int32\n",
      "\n",
      "원하는 값을 찾는다면? - 인덱싱이 가능하다 \n",
      "마이너스 인덱싱은 불가하다\n",
      "\n",
      "indexing -  4000\n",
      "slicing  - \n",
      " 0    4000\n",
      "1    3000\n",
      "2    3500\n",
      "dtype: int32\n"
     ]
    }
   ],
   "source": [
    "print('list 이용한 생성 - ')\n",
    "print()\n",
    "\n",
    "prices = pd.Series(['4000', 3000, 3500, 2000])\n",
    "print(prices)\n",
    "\n",
    "print()\n",
    "print('type - ' , type(prices))\n",
    "\n",
    "print()\n",
    "print('index , values - ')\n",
    "print('index  - ' , prices.index)\n",
    "print('value  - ' , prices.values , type(prices.values))\n",
    "prices = prices.astype('int32')\n",
    "print('dtype  - ' , prices.dtype)\n",
    "\n",
    "print()\n",
    "print('원하는 값을 찾는다면? - 인덱싱이 가능하다 ')\n",
    "print('마이너스 인덱싱은 불가하다')\n",
    "print()\n",
    "print('indexing - '   , prices[0] )\n",
    "print('slicing  - \\n' , prices[ : 3 ])\n",
    "# print('indexing - '   , prices[-1]) -- error\n"
   ]
  },
  {
   "cell_type": "code",
   "execution_count": 38,
   "id": "2667aad7",
   "metadata": {},
   "outputs": [
    {
     "name": "stdout",
     "output_type": "stream",
     "text": [
      "사용자 정의 인덱스 부여가 가능하다 - \n",
      "a    4000\n",
      "b    3000\n",
      "c    3500\n",
      "d    2000\n",
      "dtype: int64\n",
      "\n",
      "4000 <class 'numpy.int64'> 4000\n",
      "\n",
      "a    4000\n",
      "b    3000\n",
      "c    3500\n",
      "dtype: int64 <class 'pandas.core.series.Series'>\n",
      "\n",
      "인덱스가 존재하는지 -  True False\n",
      "Index(['a', 'b', 'c', 'd'], dtype='object')\n",
      "\n",
      "인덱스를 활용한 데이터 변경 - \n",
      "\n",
      "a    10000\n",
      "b     3000\n",
      "c     3500\n",
      "d     2000\n",
      "dtype: int64\n",
      "\n",
      "데이터 추가 가능 - \n",
      "a    10000\n",
      "b     3000\n",
      "c     3500\n",
      "d     2000\n",
      "e     6000\n",
      "dtype: int64\n",
      "\n",
      "데이터 삭제 - \n",
      "a    10000\n",
      "b     3000\n",
      "c     3500\n",
      "d     2000\n",
      "dtype: int64\n"
     ]
    }
   ],
   "source": [
    "print('사용자 정의 인덱스 부여가 가능하다 - ') \n",
    "\n",
    "prices = pd.Series([4000, 3000, 3500, 2000] , \n",
    "                    index = ['a', 'b', 'c', 'd']   )\n",
    "\n",
    "print(prices)\n",
    "print()\n",
    "print(prices[0] , type(prices[0]) , prices['a'] )\n",
    "\n",
    "print()\n",
    "print(prices['a' : 'c'] , type(prices['a' : 'c']))\n",
    "\n",
    "print()\n",
    "print('인덱스가 존재하는지 - ' , 'a' in prices , 0 in prices)\n",
    "\n",
    "print(prices.index)\n",
    "\n",
    "print()\n",
    "print('인덱스를 활용한 데이터 변경 - ')\n",
    "prices['a'] = 10000\n",
    "print()\n",
    "print( prices )\n",
    "\n",
    "print()\n",
    "print('데이터 추가 가능 - ')\n",
    "prices['e'] = 6000\n",
    "print( prices )\n",
    "\n",
    "print()\n",
    "print('데이터 삭제 - ')\n",
    "del prices['e']\n",
    "print( prices )\n"
   ]
  },
  {
   "cell_type": "code",
   "execution_count": 52,
   "id": "4a07c625",
   "metadata": {},
   "outputs": [
    {
     "name": "stdout",
     "output_type": "stream",
     "text": [
      "\n",
      "벡터화 연산이 가능하다 - \n",
      "0    40000\n",
      "1    30000\n",
      "2    35000\n",
      "3    20000\n",
      "dtype: int64\n",
      "0    4000\n",
      "1    3000\n",
      "2    3500\n",
      "3    2000\n",
      "dtype: int64\n",
      "\n",
      "조건식을 활용 할 수 있다 - \n"
     ]
    },
    {
     "data": {
      "text/plain": [
       "0    4000\n",
       "2    3500\n",
       "dtype: int64"
      ]
     },
     "execution_count": 52,
     "metadata": {},
     "output_type": "execute_result"
    }
   ],
   "source": [
    "\n",
    "prices = pd.Series([4000, 3000, 3500, 2000])\n",
    "print()\n",
    "print('벡터화 연산이 가능하다 - ') \n",
    "print( prices * 10 )\n",
    "print( prices )\n",
    "\n",
    "print()\n",
    "print('조건식을 활용 할 수 있다 - ')\n",
    "\n",
    "prices[ prices > 3000 ]"
   ]
  },
  {
   "cell_type": "code",
   "execution_count": 48,
   "id": "e7cc2d59",
   "metadata": {},
   "outputs": [
    {
     "name": "stdout",
     "output_type": "stream",
     "text": [
      "dict , tuple , set  생성이 가능 -\n",
      "\n",
      "name    임정섭\n",
      "age      25\n",
      "dtype: object\n",
      "index -  Index(['name', 'age'], dtype='object')\n",
      "value -  ['임정섭' 25]\n",
      "\n",
      "\n",
      "0    10\n",
      "1    20\n",
      "2    30\n",
      "dtype: int64\n",
      "index -  RangeIndex(start=0, stop=3, step=1)\n",
      "value -  [10 20 30]\n",
      "\n",
      "set 은 주의하셔야 한다 - \n",
      "0    10\n",
      "1    20\n",
      "2    30\n",
      "dtype: int64\n",
      "index -  RangeIndex(start=0, stop=3, step=1)\n",
      "value -  [10 20 30]\n"
     ]
    }
   ],
   "source": [
    "print('dict , tuple , set  생성이 가능 -')\n",
    "print()\n",
    "\n",
    "person = pd.Series({ 'name' : '임정섭' , 'age' : 25 })\n",
    "print( person )\n",
    "print('index - ' , person.index)\n",
    "print('value - ' , person.values)\n",
    "\n",
    "print()\n",
    "print()\n",
    "ages = pd.Series( (10, 20, 30) ) \n",
    "print( ages )\n",
    "print('index - ' , ages.index)\n",
    "print('value - ' , ages.values)\n",
    "\n",
    "print()\n",
    "print('set 은 주의하셔야 한다 - ')\n",
    "ages = pd.Series( list( {10, 20, 30} ) ) \n",
    "print( ages )\n",
    "print('index - ' , ages.index)\n",
    "print('value - ' , ages.values)\n",
    "\n"
   ]
  },
  {
   "cell_type": "markdown",
   "id": "61a484d4",
   "metadata": {},
   "source": [
    "- 인덱스의 라벨은 정수, 문자, 날짜, 시간"
   ]
  },
  {
   "cell_type": "code",
   "execution_count": 50,
   "id": "2ba0378c",
   "metadata": {},
   "outputs": [
    {
     "data": {
      "text/plain": [
       "구 구별\n",
       "강남    1\n",
       "서초    2\n",
       "방배    3\n",
       "동작    4\n",
       "광진    5\n",
       "Name: 특정한 의미를 부여할 수 있다, dtype: int64"
      ]
     },
     "execution_count": 50,
     "metadata": {},
     "output_type": "execute_result"
    }
   ],
   "source": [
    "tmp = pd.Series([1,2,3,4,5],\n",
    "                index = ['강남', '서초', '방배', '동작', '광진'] )\n",
    "\n",
    "tmp.name = '특정한 의미를 부여할 수 있다'\n",
    "tmp.index.name= '구 구별' \n",
    "tmp"
   ]
  },
  {
   "cell_type": "code",
   "execution_count": 55,
   "id": "ec68b0dd",
   "metadata": {},
   "outputs": [
    {
     "data": {
      "text/plain": [
       "0     10.0\n",
       "1     11.0\n",
       "2     12.0\n",
       "3     13.0\n",
       "4     14.0\n",
       "5     15.0\n",
       "6     16.0\n",
       "7     17.0\n",
       "8     18.0\n",
       "9     19.0\n",
       "10    20.0\n",
       "dtype: float32"
      ]
     },
     "execution_count": 55,
     "metadata": {},
     "output_type": "execute_result"
    }
   ],
   "source": [
    "tmp = pd.Series( range(10, 21) , dtype = 'f') \n",
    "tmp"
   ]
  },
  {
   "cell_type": "code",
   "execution_count": 56,
   "id": "ac36bf0c",
   "metadata": {},
   "outputs": [
    {
     "name": "stdout",
     "output_type": "stream",
     "text": [
      "0     100.0\n",
      "1     110.0\n",
      "2     120.0\n",
      "3     130.0\n",
      "4     140.0\n",
      "5     150.0\n",
      "6     160.0\n",
      "7     170.0\n",
      "8     180.0\n",
      "9     190.0\n",
      "10    200.0\n",
      "dtype: float32\n"
     ]
    }
   ],
   "source": [
    "print( tmp * 10)"
   ]
  },
  {
   "cell_type": "code",
   "execution_count": 57,
   "id": "aa3a74f8",
   "metadata": {},
   "outputs": [
    {
     "name": "stdout",
     "output_type": "stream",
     "text": [
      "0     10.0\n",
      "2     12.0\n",
      "4     14.0\n",
      "6     16.0\n",
      "8     18.0\n",
      "10    20.0\n",
      "dtype: float32\n"
     ]
    }
   ],
   "source": [
    "print( tmp[ tmp%2 == 0 ] )"
   ]
  },
  {
   "cell_type": "code",
   "execution_count": 68,
   "id": "e1f8ba94",
   "metadata": {},
   "outputs": [
    {
     "name": "stdout",
     "output_type": "stream",
     "text": [
      "날짜와 시간을 인덱스로 활용한다면? - \n",
      "2022-03-26 00:00:00\n"
     ]
    }
   ],
   "source": [
    "print('날짜와 시간을 인덱스로 활용한다면? - ')\n",
    "\n",
    "day = datetime(2022, 3, 25)\n",
    "print( day + timedelta(days=1) )"
   ]
  },
  {
   "cell_type": "code",
   "execution_count": 64,
   "id": "186033ea",
   "metadata": {},
   "outputs": [
    {
     "name": "stdout",
     "output_type": "stream",
     "text": [
      "[실습] 평균이 50이고 편차 5인 정규분포 데이터를 10일간 만들고 싶다면? - \n"
     ]
    }
   ],
   "source": [
    "print('[실습] 평균이 50이고 편차 5인 정규분포 데이터를 10일간 만들고 싶다면? - ') \n",
    "print(' np.random.normal(50, 5, 10) ')"
   ]
  },
  {
   "cell_type": "code",
   "execution_count": 65,
   "id": "760475b5",
   "metadata": {},
   "outputs": [
    {
     "data": {
      "text/plain": [
       "array([51.4017708 , 49.21376019, 53.24921743, 58.33235564, 51.81028354,\n",
       "       57.85904754, 50.19999076, 52.84232565, 51.71185837, 53.63122399])"
      ]
     },
     "execution_count": 65,
     "metadata": {},
     "output_type": "execute_result"
    }
   ],
   "source": [
    "np.random.normal(50, 5, 10)"
   ]
  },
  {
   "cell_type": "code",
   "execution_count": 72,
   "id": "868224fb",
   "metadata": {},
   "outputs": [],
   "source": [
    "factory01 = pd.Series( np.random.normal(50, 5, 10) , \n",
    "                       index = [ day + timedelta(days = d) for d in range(10) ])\n",
    "factory02 = pd.Series( np.random.normal(50, 5, 10) , \n",
    "                       index = [ day + timedelta(days = d) for d in range(10) ])\n",
    " "
   ]
  },
  {
   "cell_type": "code",
   "execution_count": 73,
   "id": "cf914d78",
   "metadata": {},
   "outputs": [
    {
     "data": {
      "text/plain": [
       "2022-03-25    47.886229\n",
       "2022-03-26    48.510604\n",
       "2022-03-27    45.241834\n",
       "2022-03-28    49.026242\n",
       "2022-03-29    51.285867\n",
       "2022-03-30    41.314475\n",
       "2022-03-31    46.288635\n",
       "2022-04-01    51.330821\n",
       "2022-04-02    53.208003\n",
       "2022-04-03    43.691562\n",
       "dtype: float64"
      ]
     },
     "execution_count": 73,
     "metadata": {},
     "output_type": "execute_result"
    }
   ],
   "source": [
    "factory01"
   ]
  },
  {
   "cell_type": "code",
   "execution_count": 74,
   "id": "8afe1b62",
   "metadata": {},
   "outputs": [
    {
     "data": {
      "text/plain": [
       "2022-03-25    44.626298\n",
       "2022-03-26    38.750652\n",
       "2022-03-27    53.328332\n",
       "2022-03-28    55.554849\n",
       "2022-03-29    49.095515\n",
       "2022-03-30    50.116014\n",
       "2022-03-31    43.919757\n",
       "2022-04-01    52.812164\n",
       "2022-04-02    42.175015\n",
       "2022-04-03    56.634551\n",
       "dtype: float64"
      ]
     },
     "execution_count": 74,
     "metadata": {},
     "output_type": "execute_result"
    }
   ],
   "source": [
    "factory02"
   ]
  },
  {
   "cell_type": "code",
   "execution_count": 75,
   "id": "f316e2f4",
   "metadata": {},
   "outputs": [
    {
     "data": {
      "text/plain": [
       "2022-03-25     92.512526\n",
       "2022-03-26     87.261256\n",
       "2022-03-27     98.570167\n",
       "2022-03-28    104.581090\n",
       "2022-03-29    100.381382\n",
       "2022-03-30     91.430489\n",
       "2022-03-31     90.208392\n",
       "2022-04-01    104.142985\n",
       "2022-04-02     95.383019\n",
       "2022-04-03    100.326113\n",
       "dtype: float64"
      ]
     },
     "execution_count": 75,
     "metadata": {},
     "output_type": "execute_result"
    }
   ],
   "source": [
    "factory01 + factory02"
   ]
  },
  {
   "cell_type": "code",
   "execution_count": 76,
   "id": "18e5aa32",
   "metadata": {},
   "outputs": [
    {
     "data": {
      "text/plain": [
       "DatetimeIndex(['2022-03-25', '2022-03-26', '2022-03-27', '2022-03-28',\n",
       "               '2022-03-29', '2022-03-30', '2022-03-31', '2022-04-01',\n",
       "               '2022-04-02', '2022-04-03'],\n",
       "              dtype='datetime64[ns]', freq=None)"
      ]
     },
     "execution_count": 76,
     "metadata": {},
     "output_type": "execute_result"
    }
   ],
   "source": [
    "factory01.index"
   ]
  },
  {
   "cell_type": "code",
   "execution_count": 77,
   "id": "7680b453",
   "metadata": {},
   "outputs": [],
   "source": [
    "factory01 = pd.Series( np.random.normal(50, 5, 10) , \n",
    "                       index = [ day + timedelta(days = d) for d in range(10) ])\n",
    "\n",
    "factory02 = pd.Series( np.random.normal(50, 5, 10) , \n",
    "                       index = [ day + timedelta(days = d+1) for d in range(10) ])"
   ]
  },
  {
   "cell_type": "code",
   "execution_count": 78,
   "id": "badaf30f",
   "metadata": {},
   "outputs": [
    {
     "data": {
      "text/plain": [
       "2022-03-25    54.749638\n",
       "2022-03-26    56.398483\n",
       "2022-03-27    51.111455\n",
       "2022-03-28    55.841936\n",
       "2022-03-29    46.341594\n",
       "2022-03-30    53.749470\n",
       "2022-03-31    57.426653\n",
       "2022-04-01    48.332515\n",
       "2022-04-02    50.529867\n",
       "2022-04-03    49.844608\n",
       "dtype: float64"
      ]
     },
     "execution_count": 78,
     "metadata": {},
     "output_type": "execute_result"
    }
   ],
   "source": [
    "factory01"
   ]
  },
  {
   "cell_type": "code",
   "execution_count": 79,
   "id": "2adf90ce",
   "metadata": {},
   "outputs": [
    {
     "data": {
      "text/plain": [
       "2022-03-26    47.018036\n",
       "2022-03-27    52.753745\n",
       "2022-03-28    38.091305\n",
       "2022-03-29    47.155177\n",
       "2022-03-30    44.945084\n",
       "2022-03-31    50.301421\n",
       "2022-04-01    55.007238\n",
       "2022-04-02    50.268974\n",
       "2022-04-03    49.563361\n",
       "2022-04-04    49.976672\n",
       "dtype: float64"
      ]
     },
     "execution_count": 79,
     "metadata": {},
     "output_type": "execute_result"
    }
   ],
   "source": [
    "factory02"
   ]
  },
  {
   "cell_type": "code",
   "execution_count": 81,
   "id": "73311794",
   "metadata": {},
   "outputs": [],
   "source": [
    "factory = factory01 + factory02"
   ]
  },
  {
   "cell_type": "code",
   "execution_count": 82,
   "id": "a8926f5c",
   "metadata": {},
   "outputs": [
    {
     "data": {
      "text/plain": [
       "2022-03-25           NaN\n",
       "2022-03-26    103.416519\n",
       "2022-03-27    103.865199\n",
       "2022-03-28     93.933240\n",
       "2022-03-29     93.496770\n",
       "2022-03-30     98.694555\n",
       "2022-03-31    107.728074\n",
       "2022-04-01    103.339754\n",
       "2022-04-02    100.798841\n",
       "2022-04-03     99.407968\n",
       "2022-04-04           NaN\n",
       "dtype: float64"
      ]
     },
     "execution_count": 82,
     "metadata": {},
     "output_type": "execute_result"
    }
   ],
   "source": [
    "factory"
   ]
  },
  {
   "cell_type": "code",
   "execution_count": 90,
   "id": "5e30f19a",
   "metadata": {},
   "outputs": [
    {
     "name": "stdout",
     "output_type": "stream",
     "text": [
      "결측값 확인 함수 - pd.isnull() \n",
      "2022-03-25     True\n",
      "2022-03-26    False\n",
      "2022-03-27    False\n",
      "2022-03-28    False\n",
      "2022-03-29    False\n",
      "2022-03-30    False\n",
      "2022-03-31    False\n",
      "2022-04-01    False\n",
      "2022-04-02    False\n",
      "2022-04-03    False\n",
      "2022-04-04     True\n",
      "dtype: bool\n",
      "\n",
      "2022-03-25   NaN\n",
      "2022-04-04   NaN\n",
      "dtype: float64\n",
      "\n",
      "2022-03-26    103.416519\n",
      "2022-03-27    103.865199\n",
      "2022-03-28     93.933240\n",
      "2022-03-29     93.496770\n",
      "2022-03-30     98.694555\n",
      "2022-03-31    107.728074\n",
      "2022-04-01    103.339754\n",
      "2022-04-02    100.798841\n",
      "2022-04-03     99.407968\n",
      "dtype: float64\n",
      "결측값을 넣어줄 때 - np.NaN \n"
     ]
    }
   ],
   "source": [
    "print('결측값 확인 함수 - pd.isnull() ')\n",
    "print( pd.isnull(factory) )\n",
    "# print( factory.isnull() ) \n",
    "\n",
    "print()\n",
    "print( factory[ factory.isnull()  ] )\n",
    "\n",
    "print()\n",
    "print( factory[ factory.notnull()  ] )\n",
    "\n",
    "print('결측값을 넣어줄 때 - np.NaN ')\n",
    "factory['2022-04-03'] = np.NaN"
   ]
  },
  {
   "cell_type": "code",
   "execution_count": 147,
   "id": "a590a41d",
   "metadata": {},
   "outputs": [
    {
     "data": {
      "text/plain": [
       "2022-03-25           NaN\n",
       "2022-03-26    103.416519\n",
       "2022-03-27    103.865199\n",
       "2022-03-28      93.93324\n",
       "2022-03-29      93.49677\n",
       "2022-03-30     98.694555\n",
       "2022-03-31    107.728074\n",
       "2022-04-01    103.339754\n",
       "2022-04-02    100.798841\n",
       "2022-04-03           NaN\n",
       "2022-04-04           NaN\n",
       "dtype: object"
      ]
     },
     "execution_count": 147,
     "metadata": {},
     "output_type": "execute_result"
    }
   ],
   "source": [
    "f = factory.astype('float')\n",
    "f"
   ]
  },
  {
   "cell_type": "markdown",
   "id": "b0e5007b",
   "metadata": {},
   "source": [
    "#### DataFrame \n",
    "- 행 인덱스 , 열 인덱스\n",
    "- pd.DataFrame()"
   ]
  },
  {
   "cell_type": "code",
   "execution_count": 116,
   "id": "893900c3",
   "metadata": {},
   "outputs": [],
   "source": [
    "def frmInfo(df) :\n",
    "    display('data - ' , df )\n",
    "    print()\n",
    "    print('shape   - ' , df.shape , df.shape[0] , df.shape[1])\n",
    "    print('size    - ' , df.size )\n",
    "    print('ndim    - ' , df.ndim)\n",
    "    print('index   - ' , df.index    , type(df.index))\n",
    "    print('columns - ' , df.columns  , type( df.columns ))\n",
    "    print('values  - \\n' , df.values , type(df.values) )"
   ]
  },
  {
   "cell_type": "code",
   "execution_count": 117,
   "id": "0a014b1c",
   "metadata": {},
   "outputs": [
    {
     "name": "stdout",
     "output_type": "stream",
     "text": [
      "dict를 이용한 생성 - \n"
     ]
    },
    {
     "data": {
      "text/plain": [
       "'data - '"
      ]
     },
     "metadata": {},
     "output_type": "display_data"
    },
    {
     "data": {
      "text/html": [
       "<div>\n",
       "<style scoped>\n",
       "    .dataframe tbody tr th:only-of-type {\n",
       "        vertical-align: middle;\n",
       "    }\n",
       "\n",
       "    .dataframe tbody tr th {\n",
       "        vertical-align: top;\n",
       "    }\n",
       "\n",
       "    .dataframe thead th {\n",
       "        text-align: right;\n",
       "    }\n",
       "</style>\n",
       "<table border=\"1\" class=\"dataframe\">\n",
       "  <thead>\n",
       "    <tr style=\"text-align: right;\">\n",
       "      <th></th>\n",
       "      <th>col01</th>\n",
       "      <th>col02</th>\n",
       "      <th>col03</th>\n",
       "      <th>col04</th>\n",
       "      <th>col05</th>\n",
       "    </tr>\n",
       "  </thead>\n",
       "  <tbody>\n",
       "    <tr>\n",
       "      <th>0</th>\n",
       "      <td>1</td>\n",
       "      <td>4</td>\n",
       "      <td>7</td>\n",
       "      <td>10</td>\n",
       "      <td>13</td>\n",
       "    </tr>\n",
       "    <tr>\n",
       "      <th>1</th>\n",
       "      <td>2</td>\n",
       "      <td>5</td>\n",
       "      <td>8</td>\n",
       "      <td>11</td>\n",
       "      <td>14</td>\n",
       "    </tr>\n",
       "    <tr>\n",
       "      <th>2</th>\n",
       "      <td>3</td>\n",
       "      <td>6</td>\n",
       "      <td>9</td>\n",
       "      <td>12</td>\n",
       "      <td>15</td>\n",
       "    </tr>\n",
       "  </tbody>\n",
       "</table>\n",
       "</div>"
      ],
      "text/plain": [
       "   col01  col02  col03  col04  col05\n",
       "0      1      4      7     10     13\n",
       "1      2      5      8     11     14\n",
       "2      3      6      9     12     15"
      ]
     },
     "metadata": {},
     "output_type": "display_data"
    },
    {
     "name": "stdout",
     "output_type": "stream",
     "text": [
      "\n",
      "shape   -  (3, 5) 3 5\n",
      "size    -  15\n",
      "ndim    -  2\n",
      "index   -  RangeIndex(start=0, stop=3, step=1) <class 'pandas.core.indexes.range.RangeIndex'>\n",
      "columns -  Index(['col01', 'col02', 'col03', 'col04', 'col05'], dtype='object') <class 'pandas.core.indexes.base.Index'>\n",
      "values  - \n",
      " [[ 1  4  7 10 13]\n",
      " [ 2  5  8 11 14]\n",
      " [ 3  6  9 12 15]] <class 'numpy.ndarray'>\n"
     ]
    }
   ],
   "source": [
    "print('dict를 이용한 생성 - ' ) \n",
    "\n",
    "dict_data = {\n",
    "    'col01' : [1, 2, 3],\n",
    "    'col02' : [4, 5, 6],\n",
    "    'col03' : [7, 8, 9],\n",
    "    'col04' : [10, 11, 12],\n",
    "    'col05' : [13, 14, 15]\n",
    "}\n",
    "\n",
    "tmp_df = pd.DataFrame(dict_data) \n",
    "frmInfo( tmp_df ) "
   ]
  },
  {
   "cell_type": "code",
   "execution_count": 125,
   "id": "3ff95740",
   "metadata": {},
   "outputs": [
    {
     "name": "stdout",
     "output_type": "stream",
     "text": [
      "0    1\n",
      "1    2\n",
      "2    3\n",
      "Name: col01, dtype: int64 <class 'pandas.core.series.Series'>\n",
      "RangeIndex(start=0, stop=3, step=1) [1 2 3]\n",
      "1 <class 'numpy.int64'>\n"
     ]
    }
   ],
   "source": [
    "print( tmp_df['col01'] , type(tmp_df['col01']) )\n",
    "print( tmp_df['col01'].index , tmp_df['col01'].values)\n",
    "print( tmp_df['col01'][0] , type(tmp_df['col01'][0]) )\n"
   ]
  },
  {
   "cell_type": "code",
   "execution_count": 127,
   "id": "52b27538",
   "metadata": {},
   "outputs": [
    {
     "name": "stdout",
     "output_type": "stream",
     "text": [
      "리스트를 이용한 생성 - \n",
      "\n"
     ]
    },
    {
     "data": {
      "text/plain": [
       "'data - '"
      ]
     },
     "metadata": {},
     "output_type": "display_data"
    },
    {
     "data": {
      "text/html": [
       "<div>\n",
       "<style scoped>\n",
       "    .dataframe tbody tr th:only-of-type {\n",
       "        vertical-align: middle;\n",
       "    }\n",
       "\n",
       "    .dataframe tbody tr th {\n",
       "        vertical-align: top;\n",
       "    }\n",
       "\n",
       "    .dataframe thead th {\n",
       "        text-align: right;\n",
       "    }\n",
       "</style>\n",
       "<table border=\"1\" class=\"dataframe\">\n",
       "  <thead>\n",
       "    <tr style=\"text-align: right;\">\n",
       "      <th></th>\n",
       "      <th>나이</th>\n",
       "      <th>성별</th>\n",
       "      <th>결혼여부</th>\n",
       "    </tr>\n",
       "  </thead>\n",
       "  <tbody>\n",
       "    <tr>\n",
       "      <th>섭섭해</th>\n",
       "      <td>20</td>\n",
       "      <td>M</td>\n",
       "      <td>False</td>\n",
       "    </tr>\n",
       "    <tr>\n",
       "      <th>임섭순</th>\n",
       "      <td>30</td>\n",
       "      <td>F</td>\n",
       "      <td>True</td>\n",
       "    </tr>\n",
       "  </tbody>\n",
       "</table>\n",
       "</div>"
      ],
      "text/plain": [
       "     나이 성별   결혼여부\n",
       "섭섭해  20  M  False\n",
       "임섭순  30  F   True"
      ]
     },
     "metadata": {},
     "output_type": "display_data"
    },
    {
     "name": "stdout",
     "output_type": "stream",
     "text": [
      "\n",
      "shape   -  (2, 3) 2 3\n",
      "size    -  6\n",
      "ndim    -  2\n",
      "index   -  Index(['섭섭해', '임섭순'], dtype='object') <class 'pandas.core.indexes.base.Index'>\n",
      "columns -  Index(['나이', '성별', '결혼여부'], dtype='object') <class 'pandas.core.indexes.base.Index'>\n",
      "values  - \n",
      " [[20 'M' False]\n",
      " [30 'F' True]] <class 'numpy.ndarray'>\n"
     ]
    }
   ],
   "source": [
    "print('리스트를 이용한 생성 - ') \n",
    "print()\n",
    "tmp_df = pd.DataFrame( [ [20, 'M', False] , [30, 'F', True] ] , \n",
    "                       index   = ['섭섭해' , '임섭순'] , \n",
    "                       columns = ['나이' , '성별' , '결혼여부']) \n",
    "frmInfo(tmp_df)"
   ]
  },
  {
   "cell_type": "code",
   "execution_count": 131,
   "id": "703a77ed",
   "metadata": {},
   "outputs": [
    {
     "name": "stdout",
     "output_type": "stream",
     "text": [
      "인덱스 이름 변경 - rename() , inplace - \n"
     ]
    },
    {
     "data": {
      "text/plain": [
       "'data - '"
      ]
     },
     "metadata": {},
     "output_type": "display_data"
    },
    {
     "data": {
      "text/html": [
       "<div>\n",
       "<style scoped>\n",
       "    .dataframe tbody tr th:only-of-type {\n",
       "        vertical-align: middle;\n",
       "    }\n",
       "\n",
       "    .dataframe tbody tr th {\n",
       "        vertical-align: top;\n",
       "    }\n",
       "\n",
       "    .dataframe thead th {\n",
       "        text-align: right;\n",
       "    }\n",
       "</style>\n",
       "<table border=\"1\" class=\"dataframe\">\n",
       "  <thead>\n",
       "    <tr style=\"text-align: right;\">\n",
       "      <th></th>\n",
       "      <th>연세</th>\n",
       "      <th>남녀</th>\n",
       "      <th>혼인</th>\n",
       "    </tr>\n",
       "  </thead>\n",
       "  <tbody>\n",
       "    <tr>\n",
       "      <th>이이슬</th>\n",
       "      <td>20</td>\n",
       "      <td>M</td>\n",
       "      <td>False</td>\n",
       "    </tr>\n",
       "    <tr>\n",
       "      <th>이현호</th>\n",
       "      <td>30</td>\n",
       "      <td>F</td>\n",
       "      <td>True</td>\n",
       "    </tr>\n",
       "  </tbody>\n",
       "</table>\n",
       "</div>"
      ],
      "text/plain": [
       "     연세 남녀     혼인\n",
       "이이슬  20  M  False\n",
       "이현호  30  F   True"
      ]
     },
     "metadata": {},
     "output_type": "display_data"
    },
    {
     "name": "stdout",
     "output_type": "stream",
     "text": [
      "\n",
      "shape   -  (2, 3) 2 3\n",
      "size    -  6\n",
      "ndim    -  2\n",
      "index   -  Index(['이이슬', '이현호'], dtype='object') <class 'pandas.core.indexes.base.Index'>\n",
      "columns -  Index(['연세', '남녀', '혼인'], dtype='object') <class 'pandas.core.indexes.base.Index'>\n",
      "values  - \n",
      " [[20 'M' False]\n",
      " [30 'F' True]] <class 'numpy.ndarray'>\n"
     ]
    }
   ],
   "source": [
    "print('인덱스 이름 변경 - rename() , inplace - ') \n",
    "\n",
    "tmp_df.rename(columns = {'나이' : '연세' , '성별' : '남녀' , '결혼여부' : '혼인'} , inplace = True  ) \n",
    "tmp_df.rename(index   = {'섭섭해' : '이이슬' , '임섭순' : '이현호'} , inplace = True  ) \n",
    "frmInfo(tmp_df)"
   ]
  },
  {
   "cell_type": "code",
   "execution_count": 159,
   "id": "0841df84",
   "metadata": {},
   "outputs": [
    {
     "data": {
      "text/plain": [
       "'data - '"
      ]
     },
     "metadata": {},
     "output_type": "display_data"
    },
    {
     "data": {
      "text/html": [
       "<div>\n",
       "<style scoped>\n",
       "    .dataframe tbody tr th:only-of-type {\n",
       "        vertical-align: middle;\n",
       "    }\n",
       "\n",
       "    .dataframe tbody tr th {\n",
       "        vertical-align: top;\n",
       "    }\n",
       "\n",
       "    .dataframe thead th {\n",
       "        text-align: right;\n",
       "    }\n",
       "</style>\n",
       "<table border=\"1\" class=\"dataframe\">\n",
       "  <thead>\n",
       "    <tr style=\"text-align: right;\">\n",
       "      <th></th>\n",
       "      <th>지역</th>\n",
       "      <th>2010</th>\n",
       "      <th>2012</th>\n",
       "      <th>2017</th>\n",
       "      <th>2022</th>\n",
       "      <th>증가율</th>\n",
       "    </tr>\n",
       "  </thead>\n",
       "  <tbody>\n",
       "    <tr>\n",
       "      <th>서울</th>\n",
       "      <td>특별시</td>\n",
       "      <td>1</td>\n",
       "      <td>1</td>\n",
       "      <td>100000</td>\n",
       "      <td>35325412</td>\n",
       "      <td>0.2324</td>\n",
       "    </tr>\n",
       "    <tr>\n",
       "      <th>부산</th>\n",
       "      <td>경상권</td>\n",
       "      <td>2</td>\n",
       "      <td>2</td>\n",
       "      <td>200000</td>\n",
       "      <td>23535634</td>\n",
       "      <td>0.0434</td>\n",
       "    </tr>\n",
       "    <tr>\n",
       "      <th>경기</th>\n",
       "      <td>수도권</td>\n",
       "      <td>3</td>\n",
       "      <td>3</td>\n",
       "      <td>300000</td>\n",
       "      <td>13453264</td>\n",
       "      <td>0.0944</td>\n",
       "    </tr>\n",
       "    <tr>\n",
       "      <th>인천</th>\n",
       "      <td>수도권</td>\n",
       "      <td>4</td>\n",
       "      <td>4</td>\n",
       "      <td>400000</td>\n",
       "      <td>34242345</td>\n",
       "      <td>0.0034</td>\n",
       "    </tr>\n",
       "  </tbody>\n",
       "</table>\n",
       "</div>"
      ],
      "text/plain": [
       "     지역  2010  2012    2017      2022     증가율\n",
       "서울  특별시     1     1  100000  35325412  0.2324\n",
       "부산  경상권     2     2  200000  23535634  0.0434\n",
       "경기  수도권     3     3  300000  13453264  0.0944\n",
       "인천  수도권     4     4  400000  34242345  0.0034"
      ]
     },
     "metadata": {},
     "output_type": "display_data"
    },
    {
     "name": "stdout",
     "output_type": "stream",
     "text": [
      "\n",
      "shape   -  (4, 6) 4 6\n",
      "size    -  24\n",
      "ndim    -  2\n",
      "index   -  Index(['서울', '부산', '경기', '인천'], dtype='object') <class 'pandas.core.indexes.base.Index'>\n",
      "columns -  Index(['지역', '2010', '2012', '2017', '2022', '증가율'], dtype='object') <class 'pandas.core.indexes.base.Index'>\n",
      "values  - \n",
      " [['특별시' 1 1 100000 35325412 0.2324]\n",
      " ['경상권' 2 2 200000 23535634 0.0434]\n",
      " ['수도권' 3 3 300000 13453264 0.0944]\n",
      " ['수도권' 4 4 400000 34242345 0.0034]] <class 'numpy.ndarray'>\n"
     ]
    }
   ],
   "source": [
    "data = {\n",
    "    '2022'   : [35325412 , 23535634 , 13453264  ,34242345] , \n",
    "    '2017'   : [100000, 200000 ,300000 , 400000 ] , \n",
    "    '2012'   : [1,2,3,4] ,\n",
    "    '2010'   : [1,2,3,4] ,\n",
    "    '지역'   : ['특별시' , '경상권' , '수도권' , '수도권'],\n",
    "    '증가율' : [0.2324, 0.0434, 0.0944, 0.0034] \n",
    "}\n",
    "\n",
    "col_idx  = ['지역' , '2010' , '2012' , '2017' , '2022' , '증가율'] \n",
    "row_idx  = ['서울' , '부산' , '경기' , '인천']\n",
    "\n",
    "tmp_frm = pd.DataFrame(data , \n",
    "                       columns = col_idx ,\n",
    "                       index   = row_idx ) \n",
    "\n",
    "frmInfo( tmp_frm )"
   ]
  },
  {
   "cell_type": "code",
   "execution_count": 160,
   "id": "3df8923c",
   "metadata": {},
   "outputs": [
    {
     "data": {
      "text/html": [
       "<div>\n",
       "<style scoped>\n",
       "    .dataframe tbody tr th:only-of-type {\n",
       "        vertical-align: middle;\n",
       "    }\n",
       "\n",
       "    .dataframe tbody tr th {\n",
       "        vertical-align: top;\n",
       "    }\n",
       "\n",
       "    .dataframe thead th {\n",
       "        text-align: right;\n",
       "    }\n",
       "</style>\n",
       "<table border=\"1\" class=\"dataframe\">\n",
       "  <thead>\n",
       "    <tr style=\"text-align: right;\">\n",
       "      <th>feature</th>\n",
       "      <th>지역</th>\n",
       "      <th>2010</th>\n",
       "      <th>2012</th>\n",
       "      <th>2017</th>\n",
       "      <th>2022</th>\n",
       "      <th>증가율</th>\n",
       "    </tr>\n",
       "    <tr>\n",
       "      <th>city</th>\n",
       "      <th></th>\n",
       "      <th></th>\n",
       "      <th></th>\n",
       "      <th></th>\n",
       "      <th></th>\n",
       "      <th></th>\n",
       "    </tr>\n",
       "  </thead>\n",
       "  <tbody>\n",
       "    <tr>\n",
       "      <th>서울</th>\n",
       "      <td>특별시</td>\n",
       "      <td>1</td>\n",
       "      <td>1</td>\n",
       "      <td>100000</td>\n",
       "      <td>35325412</td>\n",
       "      <td>0.2324</td>\n",
       "    </tr>\n",
       "    <tr>\n",
       "      <th>부산</th>\n",
       "      <td>경상권</td>\n",
       "      <td>2</td>\n",
       "      <td>2</td>\n",
       "      <td>200000</td>\n",
       "      <td>23535634</td>\n",
       "      <td>0.0434</td>\n",
       "    </tr>\n",
       "    <tr>\n",
       "      <th>경기</th>\n",
       "      <td>수도권</td>\n",
       "      <td>3</td>\n",
       "      <td>3</td>\n",
       "      <td>300000</td>\n",
       "      <td>13453264</td>\n",
       "      <td>0.0944</td>\n",
       "    </tr>\n",
       "    <tr>\n",
       "      <th>인천</th>\n",
       "      <td>수도권</td>\n",
       "      <td>4</td>\n",
       "      <td>4</td>\n",
       "      <td>400000</td>\n",
       "      <td>34242345</td>\n",
       "      <td>0.0034</td>\n",
       "    </tr>\n",
       "  </tbody>\n",
       "</table>\n",
       "</div>"
      ],
      "text/plain": [
       "feature   지역  2010  2012    2017      2022     증가율\n",
       "city                                              \n",
       "서울       특별시     1     1  100000  35325412  0.2324\n",
       "부산       경상권     2     2  200000  23535634  0.0434\n",
       "경기       수도권     3     3  300000  13453264  0.0944\n",
       "인천       수도권     4     4  400000  34242345  0.0034"
      ]
     },
     "execution_count": 160,
     "metadata": {},
     "output_type": "execute_result"
    }
   ],
   "source": [
    "tmp_frm.index.name   = 'city'\n",
    "tmp_frm.columns.name = 'feature'\n",
    "tmp_frm"
   ]
  },
  {
   "cell_type": "code",
   "execution_count": 161,
   "id": "243ee2c5",
   "metadata": {},
   "outputs": [
    {
     "name": "stdout",
     "output_type": "stream",
     "text": [
      "index name   -  Index(['서울', '부산', '경기', '인천'], dtype='object', name='city') city\n",
      "columns name -  Index(['지역', '2010', '2012', '2017', '2022', '증가율'], dtype='object', name='feature') feature\n"
     ]
    }
   ],
   "source": [
    "print('index name   - ' , tmp_frm.index   , tmp_frm.index.name)\n",
    "print('columns name - ' , tmp_frm.columns , tmp_frm.columns.name)"
   ]
  },
  {
   "cell_type": "markdown",
   "id": "7de9a4b6",
   "metadata": {},
   "source": [
    "- 데이터 프레임에서 열 데이터의 갱신, 추가 , 삭제"
   ]
  },
  {
   "cell_type": "code",
   "execution_count": 163,
   "id": "960ee586",
   "metadata": {},
   "outputs": [
    {
     "data": {
      "text/html": [
       "<div>\n",
       "<style scoped>\n",
       "    .dataframe tbody tr th:only-of-type {\n",
       "        vertical-align: middle;\n",
       "    }\n",
       "\n",
       "    .dataframe tbody tr th {\n",
       "        vertical-align: top;\n",
       "    }\n",
       "\n",
       "    .dataframe thead th {\n",
       "        text-align: right;\n",
       "    }\n",
       "</style>\n",
       "<table border=\"1\" class=\"dataframe\">\n",
       "  <thead>\n",
       "    <tr style=\"text-align: right;\">\n",
       "      <th>feature</th>\n",
       "      <th>지역</th>\n",
       "      <th>2010</th>\n",
       "      <th>2012</th>\n",
       "      <th>2017</th>\n",
       "      <th>2022</th>\n",
       "      <th>증가율</th>\n",
       "      <th>2017-2022 증가율</th>\n",
       "    </tr>\n",
       "    <tr>\n",
       "      <th>city</th>\n",
       "      <th></th>\n",
       "      <th></th>\n",
       "      <th></th>\n",
       "      <th></th>\n",
       "      <th></th>\n",
       "      <th></th>\n",
       "      <th></th>\n",
       "    </tr>\n",
       "  </thead>\n",
       "  <tbody>\n",
       "    <tr>\n",
       "      <th>서울</th>\n",
       "      <td>특별시</td>\n",
       "      <td>1</td>\n",
       "      <td>1</td>\n",
       "      <td>100000</td>\n",
       "      <td>35325412</td>\n",
       "      <td>0.2324</td>\n",
       "      <td>35225.41</td>\n",
       "    </tr>\n",
       "    <tr>\n",
       "      <th>부산</th>\n",
       "      <td>경상권</td>\n",
       "      <td>2</td>\n",
       "      <td>2</td>\n",
       "      <td>200000</td>\n",
       "      <td>23535634</td>\n",
       "      <td>0.0434</td>\n",
       "      <td>11667.82</td>\n",
       "    </tr>\n",
       "    <tr>\n",
       "      <th>경기</th>\n",
       "      <td>수도권</td>\n",
       "      <td>3</td>\n",
       "      <td>3</td>\n",
       "      <td>300000</td>\n",
       "      <td>13453264</td>\n",
       "      <td>0.0944</td>\n",
       "      <td>4384.42</td>\n",
       "    </tr>\n",
       "    <tr>\n",
       "      <th>인천</th>\n",
       "      <td>수도권</td>\n",
       "      <td>4</td>\n",
       "      <td>4</td>\n",
       "      <td>400000</td>\n",
       "      <td>34242345</td>\n",
       "      <td>0.0034</td>\n",
       "      <td>8460.59</td>\n",
       "    </tr>\n",
       "  </tbody>\n",
       "</table>\n",
       "</div>"
      ],
      "text/plain": [
       "feature   지역  2010  2012    2017      2022     증가율  2017-2022 증가율\n",
       "city                                                             \n",
       "서울       특별시     1     1  100000  35325412  0.2324       35225.41\n",
       "부산       경상권     2     2  200000  23535634  0.0434       11667.82\n",
       "경기       수도권     3     3  300000  13453264  0.0944        4384.42\n",
       "인천       수도권     4     4  400000  34242345  0.0034        8460.59"
      ]
     },
     "execution_count": 163,
     "metadata": {},
     "output_type": "execute_result"
    }
   ],
   "source": [
    "print('추가 - ')\n",
    "print()\n",
    "tmp_frm['2017-2022 증가율'] =  ( (tmp_frm['2022'] - tmp_frm['2017']) / tmp_frm['2017'] * 100 ).round(2)\n",
    "tmp_frm"
   ]
  },
  {
   "cell_type": "code",
   "execution_count": 164,
   "id": "875dae18",
   "metadata": {},
   "outputs": [
    {
     "name": "stdout",
     "output_type": "stream",
     "text": [
      "삭제 - \n"
     ]
    },
    {
     "data": {
      "text/html": [
       "<div>\n",
       "<style scoped>\n",
       "    .dataframe tbody tr th:only-of-type {\n",
       "        vertical-align: middle;\n",
       "    }\n",
       "\n",
       "    .dataframe tbody tr th {\n",
       "        vertical-align: top;\n",
       "    }\n",
       "\n",
       "    .dataframe thead th {\n",
       "        text-align: right;\n",
       "    }\n",
       "</style>\n",
       "<table border=\"1\" class=\"dataframe\">\n",
       "  <thead>\n",
       "    <tr style=\"text-align: right;\">\n",
       "      <th>feature</th>\n",
       "      <th>지역</th>\n",
       "      <th>2010</th>\n",
       "      <th>2012</th>\n",
       "      <th>2017</th>\n",
       "      <th>2022</th>\n",
       "      <th>증가율</th>\n",
       "    </tr>\n",
       "    <tr>\n",
       "      <th>city</th>\n",
       "      <th></th>\n",
       "      <th></th>\n",
       "      <th></th>\n",
       "      <th></th>\n",
       "      <th></th>\n",
       "      <th></th>\n",
       "    </tr>\n",
       "  </thead>\n",
       "  <tbody>\n",
       "    <tr>\n",
       "      <th>서울</th>\n",
       "      <td>특별시</td>\n",
       "      <td>1</td>\n",
       "      <td>1</td>\n",
       "      <td>100000</td>\n",
       "      <td>35325412</td>\n",
       "      <td>0.2324</td>\n",
       "    </tr>\n",
       "    <tr>\n",
       "      <th>부산</th>\n",
       "      <td>경상권</td>\n",
       "      <td>2</td>\n",
       "      <td>2</td>\n",
       "      <td>200000</td>\n",
       "      <td>23535634</td>\n",
       "      <td>0.0434</td>\n",
       "    </tr>\n",
       "    <tr>\n",
       "      <th>경기</th>\n",
       "      <td>수도권</td>\n",
       "      <td>3</td>\n",
       "      <td>3</td>\n",
       "      <td>300000</td>\n",
       "      <td>13453264</td>\n",
       "      <td>0.0944</td>\n",
       "    </tr>\n",
       "    <tr>\n",
       "      <th>인천</th>\n",
       "      <td>수도권</td>\n",
       "      <td>4</td>\n",
       "      <td>4</td>\n",
       "      <td>400000</td>\n",
       "      <td>34242345</td>\n",
       "      <td>0.0034</td>\n",
       "    </tr>\n",
       "  </tbody>\n",
       "</table>\n",
       "</div>"
      ],
      "text/plain": [
       "feature   지역  2010  2012    2017      2022     증가율\n",
       "city                                              \n",
       "서울       특별시     1     1  100000  35325412  0.2324\n",
       "부산       경상권     2     2  200000  23535634  0.0434\n",
       "경기       수도권     3     3  300000  13453264  0.0944\n",
       "인천       수도권     4     4  400000  34242345  0.0034"
      ]
     },
     "execution_count": 164,
     "metadata": {},
     "output_type": "execute_result"
    }
   ],
   "source": [
    "print('삭제 - ')\n",
    "del tmp_frm['2017-2022 증가율']\n",
    "tmp_frm"
   ]
  },
  {
   "cell_type": "code",
   "execution_count": 168,
   "id": "9da91c8a",
   "metadata": {},
   "outputs": [
    {
     "data": {
      "text/plain": [
       "'data - '"
      ]
     },
     "metadata": {},
     "output_type": "display_data"
    },
    {
     "data": {
      "text/html": [
       "<div>\n",
       "<style scoped>\n",
       "    .dataframe tbody tr th:only-of-type {\n",
       "        vertical-align: middle;\n",
       "    }\n",
       "\n",
       "    .dataframe tbody tr th {\n",
       "        vertical-align: top;\n",
       "    }\n",
       "\n",
       "    .dataframe thead th {\n",
       "        text-align: right;\n",
       "    }\n",
       "</style>\n",
       "<table border=\"1\" class=\"dataframe\">\n",
       "  <thead>\n",
       "    <tr style=\"text-align: right;\">\n",
       "      <th>feature</th>\n",
       "      <th>지역</th>\n",
       "      <th>증가율</th>\n",
       "    </tr>\n",
       "    <tr>\n",
       "      <th>city</th>\n",
       "      <th></th>\n",
       "      <th></th>\n",
       "    </tr>\n",
       "  </thead>\n",
       "  <tbody>\n",
       "    <tr>\n",
       "      <th>서울</th>\n",
       "      <td>특별시</td>\n",
       "      <td>0.2324</td>\n",
       "    </tr>\n",
       "    <tr>\n",
       "      <th>부산</th>\n",
       "      <td>경상권</td>\n",
       "      <td>0.0434</td>\n",
       "    </tr>\n",
       "    <tr>\n",
       "      <th>경기</th>\n",
       "      <td>수도권</td>\n",
       "      <td>0.0944</td>\n",
       "    </tr>\n",
       "    <tr>\n",
       "      <th>인천</th>\n",
       "      <td>수도권</td>\n",
       "      <td>0.0034</td>\n",
       "    </tr>\n",
       "  </tbody>\n",
       "</table>\n",
       "</div>"
      ],
      "text/plain": [
       "feature   지역     증가율\n",
       "city                \n",
       "서울       특별시  0.2324\n",
       "부산       경상권  0.0434\n",
       "경기       수도권  0.0944\n",
       "인천       수도권  0.0034"
      ]
     },
     "metadata": {},
     "output_type": "display_data"
    },
    {
     "name": "stdout",
     "output_type": "stream",
     "text": [
      "\n",
      "shape   -  (4, 2) 4 2\n",
      "size    -  8\n",
      "ndim    -  2\n",
      "index   -  Index(['서울', '부산', '경기', '인천'], dtype='object', name='city') <class 'pandas.core.indexes.base.Index'>\n",
      "columns -  Index(['지역', '증가율'], dtype='object', name='feature') <class 'pandas.core.indexes.base.Index'>\n",
      "values  - \n",
      " [['특별시' 0.2324]\n",
      " ['경상권' 0.0434]\n",
      " ['수도권' 0.0944]\n",
      " ['수도권' 0.0034]] <class 'numpy.ndarray'>\n"
     ]
    }
   ],
   "source": [
    "tmp_subset = tmp_frm[ ['지역' , '증가율'] ] \n",
    "frmInfo(tmp_subset)"
   ]
  },
  {
   "cell_type": "markdown",
   "id": "9b71269d",
   "metadata": {},
   "source": [
    "- row indexing (항상 슬라이싱을 필요로 한다.)\n",
    "- 배열, 라벨 인덱싱이 가능하다"
   ]
  },
  {
   "cell_type": "code",
   "execution_count": 178,
   "id": "f8aa05eb",
   "metadata": {},
   "outputs": [
    {
     "name": "stdout",
     "output_type": "stream",
     "text": [
      "라벨 인덱싱 - \n"
     ]
    },
    {
     "data": {
      "text/html": [
       "<div>\n",
       "<style scoped>\n",
       "    .dataframe tbody tr th:only-of-type {\n",
       "        vertical-align: middle;\n",
       "    }\n",
       "\n",
       "    .dataframe tbody tr th {\n",
       "        vertical-align: top;\n",
       "    }\n",
       "\n",
       "    .dataframe thead th {\n",
       "        text-align: right;\n",
       "    }\n",
       "</style>\n",
       "<table border=\"1\" class=\"dataframe\">\n",
       "  <thead>\n",
       "    <tr style=\"text-align: right;\">\n",
       "      <th>feature</th>\n",
       "      <th>지역</th>\n",
       "      <th>2010</th>\n",
       "      <th>2012</th>\n",
       "      <th>2017</th>\n",
       "      <th>2022</th>\n",
       "      <th>증가율</th>\n",
       "    </tr>\n",
       "    <tr>\n",
       "      <th>city</th>\n",
       "      <th></th>\n",
       "      <th></th>\n",
       "      <th></th>\n",
       "      <th></th>\n",
       "      <th></th>\n",
       "      <th></th>\n",
       "    </tr>\n",
       "  </thead>\n",
       "  <tbody>\n",
       "    <tr>\n",
       "      <th>서울</th>\n",
       "      <td>특별시</td>\n",
       "      <td>1</td>\n",
       "      <td>1</td>\n",
       "      <td>100000</td>\n",
       "      <td>35325412</td>\n",
       "      <td>0.2324</td>\n",
       "    </tr>\n",
       "  </tbody>\n",
       "</table>\n",
       "</div>"
      ],
      "text/plain": [
       "feature   지역  2010  2012    2017      2022     증가율\n",
       "city                                              \n",
       "서울       특별시     1     1  100000  35325412  0.2324"
      ]
     },
     "metadata": {},
     "output_type": "display_data"
    },
    {
     "name": "stdout",
     "output_type": "stream",
     "text": [
      "\n",
      "배열 인덱싱 - \n"
     ]
    },
    {
     "data": {
      "text/html": [
       "<div>\n",
       "<style scoped>\n",
       "    .dataframe tbody tr th:only-of-type {\n",
       "        vertical-align: middle;\n",
       "    }\n",
       "\n",
       "    .dataframe tbody tr th {\n",
       "        vertical-align: top;\n",
       "    }\n",
       "\n",
       "    .dataframe thead th {\n",
       "        text-align: right;\n",
       "    }\n",
       "</style>\n",
       "<table border=\"1\" class=\"dataframe\">\n",
       "  <thead>\n",
       "    <tr style=\"text-align: right;\">\n",
       "      <th>feature</th>\n",
       "      <th>지역</th>\n",
       "      <th>2010</th>\n",
       "      <th>2012</th>\n",
       "      <th>2017</th>\n",
       "      <th>2022</th>\n",
       "      <th>증가율</th>\n",
       "    </tr>\n",
       "    <tr>\n",
       "      <th>city</th>\n",
       "      <th></th>\n",
       "      <th></th>\n",
       "      <th></th>\n",
       "      <th></th>\n",
       "      <th></th>\n",
       "      <th></th>\n",
       "    </tr>\n",
       "  </thead>\n",
       "  <tbody>\n",
       "    <tr>\n",
       "      <th>서울</th>\n",
       "      <td>특별시</td>\n",
       "      <td>1</td>\n",
       "      <td>1</td>\n",
       "      <td>100000</td>\n",
       "      <td>35325412</td>\n",
       "      <td>0.2324</td>\n",
       "    </tr>\n",
       "  </tbody>\n",
       "</table>\n",
       "</div>"
      ],
      "text/plain": [
       "feature   지역  2010  2012    2017      2022     증가율\n",
       "city                                              \n",
       "서울       특별시     1     1  100000  35325412  0.2324"
      ]
     },
     "metadata": {},
     "output_type": "display_data"
    }
   ],
   "source": [
    "print('라벨 인덱싱 - ')\n",
    "display( tmp_frm[ : '서울'] )\n",
    "\n",
    "print()\n",
    "print('배열 인덱싱 - ')\n",
    "display( tmp_frm[ : 1] )\n",
    "\n"
   ]
  },
  {
   "cell_type": "code",
   "execution_count": 179,
   "id": "61c129e7",
   "metadata": {},
   "outputs": [
    {
     "data": {
      "text/html": [
       "<div>\n",
       "<style scoped>\n",
       "    .dataframe tbody tr th:only-of-type {\n",
       "        vertical-align: middle;\n",
       "    }\n",
       "\n",
       "    .dataframe tbody tr th {\n",
       "        vertical-align: top;\n",
       "    }\n",
       "\n",
       "    .dataframe thead th {\n",
       "        text-align: right;\n",
       "    }\n",
       "</style>\n",
       "<table border=\"1\" class=\"dataframe\">\n",
       "  <thead>\n",
       "    <tr style=\"text-align: right;\">\n",
       "      <th>feature</th>\n",
       "      <th>지역</th>\n",
       "      <th>2010</th>\n",
       "      <th>2012</th>\n",
       "      <th>2017</th>\n",
       "      <th>2022</th>\n",
       "      <th>증가율</th>\n",
       "    </tr>\n",
       "    <tr>\n",
       "      <th>city</th>\n",
       "      <th></th>\n",
       "      <th></th>\n",
       "      <th></th>\n",
       "      <th></th>\n",
       "      <th></th>\n",
       "      <th></th>\n",
       "    </tr>\n",
       "  </thead>\n",
       "  <tbody>\n",
       "    <tr>\n",
       "      <th>서울</th>\n",
       "      <td>특별시</td>\n",
       "      <td>1</td>\n",
       "      <td>1</td>\n",
       "      <td>100000</td>\n",
       "      <td>35325412</td>\n",
       "      <td>0.2324</td>\n",
       "    </tr>\n",
       "    <tr>\n",
       "      <th>부산</th>\n",
       "      <td>경상권</td>\n",
       "      <td>2</td>\n",
       "      <td>2</td>\n",
       "      <td>200000</td>\n",
       "      <td>23535634</td>\n",
       "      <td>0.0434</td>\n",
       "    </tr>\n",
       "    <tr>\n",
       "      <th>경기</th>\n",
       "      <td>수도권</td>\n",
       "      <td>3</td>\n",
       "      <td>3</td>\n",
       "      <td>300000</td>\n",
       "      <td>13453264</td>\n",
       "      <td>0.0944</td>\n",
       "    </tr>\n",
       "    <tr>\n",
       "      <th>인천</th>\n",
       "      <td>수도권</td>\n",
       "      <td>4</td>\n",
       "      <td>4</td>\n",
       "      <td>400000</td>\n",
       "      <td>34242345</td>\n",
       "      <td>0.0034</td>\n",
       "    </tr>\n",
       "  </tbody>\n",
       "</table>\n",
       "</div>"
      ],
      "text/plain": [
       "feature   지역  2010  2012    2017      2022     증가율\n",
       "city                                              \n",
       "서울       특별시     1     1  100000  35325412  0.2324\n",
       "부산       경상권     2     2  200000  23535634  0.0434\n",
       "경기       수도권     3     3  300000  13453264  0.0944\n",
       "인천       수도권     4     4  400000  34242345  0.0034"
      ]
     },
     "execution_count": 179,
     "metadata": {},
     "output_type": "execute_result"
    }
   ],
   "source": [
    "tmp_frm"
   ]
  },
  {
   "cell_type": "code",
   "execution_count": 180,
   "id": "9dec8f19",
   "metadata": {},
   "outputs": [
    {
     "name": "stdout",
     "output_type": "stream",
     "text": [
      "행 인덱싱으로 서울 - 경기까지 필터링한다면? - \n",
      "라벨 인덱싱 - \n"
     ]
    },
    {
     "data": {
      "text/html": [
       "<div>\n",
       "<style scoped>\n",
       "    .dataframe tbody tr th:only-of-type {\n",
       "        vertical-align: middle;\n",
       "    }\n",
       "\n",
       "    .dataframe tbody tr th {\n",
       "        vertical-align: top;\n",
       "    }\n",
       "\n",
       "    .dataframe thead th {\n",
       "        text-align: right;\n",
       "    }\n",
       "</style>\n",
       "<table border=\"1\" class=\"dataframe\">\n",
       "  <thead>\n",
       "    <tr style=\"text-align: right;\">\n",
       "      <th>feature</th>\n",
       "      <th>지역</th>\n",
       "      <th>2010</th>\n",
       "      <th>2012</th>\n",
       "      <th>2017</th>\n",
       "      <th>2022</th>\n",
       "      <th>증가율</th>\n",
       "    </tr>\n",
       "    <tr>\n",
       "      <th>city</th>\n",
       "      <th></th>\n",
       "      <th></th>\n",
       "      <th></th>\n",
       "      <th></th>\n",
       "      <th></th>\n",
       "      <th></th>\n",
       "    </tr>\n",
       "  </thead>\n",
       "  <tbody>\n",
       "    <tr>\n",
       "      <th>서울</th>\n",
       "      <td>특별시</td>\n",
       "      <td>1</td>\n",
       "      <td>1</td>\n",
       "      <td>100000</td>\n",
       "      <td>35325412</td>\n",
       "      <td>0.2324</td>\n",
       "    </tr>\n",
       "    <tr>\n",
       "      <th>부산</th>\n",
       "      <td>경상권</td>\n",
       "      <td>2</td>\n",
       "      <td>2</td>\n",
       "      <td>200000</td>\n",
       "      <td>23535634</td>\n",
       "      <td>0.0434</td>\n",
       "    </tr>\n",
       "    <tr>\n",
       "      <th>경기</th>\n",
       "      <td>수도권</td>\n",
       "      <td>3</td>\n",
       "      <td>3</td>\n",
       "      <td>300000</td>\n",
       "      <td>13453264</td>\n",
       "      <td>0.0944</td>\n",
       "    </tr>\n",
       "  </tbody>\n",
       "</table>\n",
       "</div>"
      ],
      "text/plain": [
       "feature   지역  2010  2012    2017      2022     증가율\n",
       "city                                              \n",
       "서울       특별시     1     1  100000  35325412  0.2324\n",
       "부산       경상권     2     2  200000  23535634  0.0434\n",
       "경기       수도권     3     3  300000  13453264  0.0944"
      ]
     },
     "metadata": {},
     "output_type": "display_data"
    },
    {
     "name": "stdout",
     "output_type": "stream",
     "text": [
      "\n",
      "배열 인덱싱 - \n"
     ]
    },
    {
     "data": {
      "text/html": [
       "<div>\n",
       "<style scoped>\n",
       "    .dataframe tbody tr th:only-of-type {\n",
       "        vertical-align: middle;\n",
       "    }\n",
       "\n",
       "    .dataframe tbody tr th {\n",
       "        vertical-align: top;\n",
       "    }\n",
       "\n",
       "    .dataframe thead th {\n",
       "        text-align: right;\n",
       "    }\n",
       "</style>\n",
       "<table border=\"1\" class=\"dataframe\">\n",
       "  <thead>\n",
       "    <tr style=\"text-align: right;\">\n",
       "      <th>feature</th>\n",
       "      <th>지역</th>\n",
       "      <th>2010</th>\n",
       "      <th>2012</th>\n",
       "      <th>2017</th>\n",
       "      <th>2022</th>\n",
       "      <th>증가율</th>\n",
       "    </tr>\n",
       "    <tr>\n",
       "      <th>city</th>\n",
       "      <th></th>\n",
       "      <th></th>\n",
       "      <th></th>\n",
       "      <th></th>\n",
       "      <th></th>\n",
       "      <th></th>\n",
       "    </tr>\n",
       "  </thead>\n",
       "  <tbody>\n",
       "    <tr>\n",
       "      <th>서울</th>\n",
       "      <td>특별시</td>\n",
       "      <td>1</td>\n",
       "      <td>1</td>\n",
       "      <td>100000</td>\n",
       "      <td>35325412</td>\n",
       "      <td>0.2324</td>\n",
       "    </tr>\n",
       "    <tr>\n",
       "      <th>부산</th>\n",
       "      <td>경상권</td>\n",
       "      <td>2</td>\n",
       "      <td>2</td>\n",
       "      <td>200000</td>\n",
       "      <td>23535634</td>\n",
       "      <td>0.0434</td>\n",
       "    </tr>\n",
       "    <tr>\n",
       "      <th>경기</th>\n",
       "      <td>수도권</td>\n",
       "      <td>3</td>\n",
       "      <td>3</td>\n",
       "      <td>300000</td>\n",
       "      <td>13453264</td>\n",
       "      <td>0.0944</td>\n",
       "    </tr>\n",
       "  </tbody>\n",
       "</table>\n",
       "</div>"
      ],
      "text/plain": [
       "feature   지역  2010  2012    2017      2022     증가율\n",
       "city                                              \n",
       "서울       특별시     1     1  100000  35325412  0.2324\n",
       "부산       경상권     2     2  200000  23535634  0.0434\n",
       "경기       수도권     3     3  300000  13453264  0.0944"
      ]
     },
     "metadata": {},
     "output_type": "display_data"
    }
   ],
   "source": [
    "print('행 인덱싱으로 서울 - 경기까지 필터링한다면? - ')\n",
    "\n",
    "print('라벨 인덱싱 - ')\n",
    "display( tmp_frm[ '서울' : '경기'] )\n",
    "\n",
    "print()\n",
    "print('배열 인덱싱 - ')\n",
    "display( tmp_frm[ 0 : 3] )"
   ]
  },
  {
   "cell_type": "code",
   "execution_count": 181,
   "id": "74ecd3cb",
   "metadata": {},
   "outputs": [
    {
     "data": {
      "text/html": [
       "<div>\n",
       "<style scoped>\n",
       "    .dataframe tbody tr th:only-of-type {\n",
       "        vertical-align: middle;\n",
       "    }\n",
       "\n",
       "    .dataframe tbody tr th {\n",
       "        vertical-align: top;\n",
       "    }\n",
       "\n",
       "    .dataframe thead th {\n",
       "        text-align: right;\n",
       "    }\n",
       "</style>\n",
       "<table border=\"1\" class=\"dataframe\">\n",
       "  <thead>\n",
       "    <tr style=\"text-align: right;\">\n",
       "      <th>feature</th>\n",
       "      <th>지역</th>\n",
       "      <th>2010</th>\n",
       "      <th>2012</th>\n",
       "      <th>2017</th>\n",
       "      <th>2022</th>\n",
       "      <th>증가율</th>\n",
       "    </tr>\n",
       "    <tr>\n",
       "      <th>city</th>\n",
       "      <th></th>\n",
       "      <th></th>\n",
       "      <th></th>\n",
       "      <th></th>\n",
       "      <th></th>\n",
       "      <th></th>\n",
       "    </tr>\n",
       "  </thead>\n",
       "  <tbody>\n",
       "    <tr>\n",
       "      <th>서울</th>\n",
       "      <td>특별시</td>\n",
       "      <td>1</td>\n",
       "      <td>1</td>\n",
       "      <td>100000</td>\n",
       "      <td>35325412</td>\n",
       "      <td>0.2324</td>\n",
       "    </tr>\n",
       "    <tr>\n",
       "      <th>부산</th>\n",
       "      <td>경상권</td>\n",
       "      <td>2</td>\n",
       "      <td>2</td>\n",
       "      <td>200000</td>\n",
       "      <td>23535634</td>\n",
       "      <td>0.0434</td>\n",
       "    </tr>\n",
       "    <tr>\n",
       "      <th>경기</th>\n",
       "      <td>수도권</td>\n",
       "      <td>3</td>\n",
       "      <td>3</td>\n",
       "      <td>300000</td>\n",
       "      <td>13453264</td>\n",
       "      <td>0.0944</td>\n",
       "    </tr>\n",
       "    <tr>\n",
       "      <th>인천</th>\n",
       "      <td>수도권</td>\n",
       "      <td>4</td>\n",
       "      <td>4</td>\n",
       "      <td>400000</td>\n",
       "      <td>34242345</td>\n",
       "      <td>0.0034</td>\n",
       "    </tr>\n",
       "  </tbody>\n",
       "</table>\n",
       "</div>"
      ],
      "text/plain": [
       "feature   지역  2010  2012    2017      2022     증가율\n",
       "city                                              \n",
       "서울       특별시     1     1  100000  35325412  0.2324\n",
       "부산       경상권     2     2  200000  23535634  0.0434\n",
       "경기       수도권     3     3  300000  13453264  0.0944\n",
       "인천       수도권     4     4  400000  34242345  0.0034"
      ]
     },
     "execution_count": 181,
     "metadata": {},
     "output_type": "execute_result"
    }
   ],
   "source": [
    "tmp_frm"
   ]
  },
  {
   "cell_type": "markdown",
   "id": "75f3bd49",
   "metadata": {},
   "source": [
    "- 개별 인덱싱이 가능할까?\n"
   ]
  },
  {
   "cell_type": "code",
   "execution_count": 190,
   "id": "ce1e4cfd",
   "metadata": {},
   "outputs": [
    {
     "name": "stdout",
     "output_type": "stream",
     "text": [
      "2022년 서울과 인천의 데이터를 필터링한다면? - \n",
      "city\n",
      "서울    35325412\n",
      "인천    34242345\n",
      "Name: 2022, dtype: int64\n",
      "<class 'pandas.core.series.Series'>\n"
     ]
    }
   ],
   "source": [
    "print('2022년 서울과 인천의 데이터를 필터링한다면? - ') \n",
    "print( tmp_frm['2022'][['서울' , '인천']] )\n",
    "print( type( tmp_frm['2022'][['서울' , '인천']]) )"
   ]
  },
  {
   "cell_type": "markdown",
   "id": "923084a3",
   "metadata": {},
   "source": [
    "#### 다음 조건을 만족하는 임의의 데이터프레임을 만들어 보자 [실습]\n",
    "- 열의 갯수와 행의 갯수는 각각 5개 이상이여야 한다.\n",
    "- 열에는 정수, 문자열, 실수, 날짜 데이터가 각각 1개 이상 포함되어야 한다."
   ]
  },
  {
   "cell_type": "code",
   "execution_count": 191,
   "id": "8a161e99",
   "metadata": {},
   "outputs": [
    {
     "data": {
      "text/plain": [
       "array([5, 7, 9, 6, 8, 8, 2, 2, 5, 1])"
      ]
     },
     "execution_count": 191,
     "metadata": {},
     "output_type": "execute_result"
    }
   ],
   "source": [
    "intValue = np.random.randint(1, 10, 10)\n",
    "intValue"
   ]
  },
  {
   "cell_type": "code",
   "execution_count": 192,
   "id": "30f252d4",
   "metadata": {},
   "outputs": [
    {
     "data": {
      "text/plain": [
       "array([0.93605514, 0.69186049, 0.97066189, 0.72985546, 0.28563933,\n",
       "       0.11043911, 0.94764396, 0.53134244, 0.05157989, 0.07007826])"
      ]
     },
     "execution_count": 192,
     "metadata": {},
     "output_type": "execute_result"
    }
   ],
   "source": [
    "floatValue = np.random.rand(10)\n",
    "floatValue"
   ]
  },
  {
   "cell_type": "code",
   "execution_count": 193,
   "id": "c14f562c",
   "metadata": {},
   "outputs": [
    {
     "data": {
      "text/plain": [
       "[datetime.datetime(2022, 3, 25, 0, 0),\n",
       " datetime.datetime(2022, 3, 26, 0, 0),\n",
       " datetime.datetime(2022, 3, 27, 0, 0),\n",
       " datetime.datetime(2022, 3, 28, 0, 0),\n",
       " datetime.datetime(2022, 3, 29, 0, 0),\n",
       " datetime.datetime(2022, 3, 30, 0, 0),\n",
       " datetime.datetime(2022, 3, 31, 0, 0),\n",
       " datetime.datetime(2022, 4, 1, 0, 0),\n",
       " datetime.datetime(2022, 4, 2, 0, 0),\n",
       " datetime.datetime(2022, 4, 3, 0, 0)]"
      ]
     },
     "execution_count": 193,
     "metadata": {},
     "output_type": "execute_result"
    }
   ],
   "source": [
    "day = datetime(2022, 3, 25)\n",
    "dateValue = [ day + timedelta(d) for d in range(0,10) ] \n",
    "dateValue"
   ]
  },
  {
   "cell_type": "code",
   "execution_count": 194,
   "id": "0450f622",
   "metadata": {},
   "outputs": [
    {
     "data": {
      "text/plain": [
       "['뭐 먹지?', '배부르다', '해장국', '짬뽕', '회덮밥', '뭐 먹지?', '배부르다', '해장국', '짬뽕', '회덮밥']"
      ]
     },
     "execution_count": 194,
     "metadata": {},
     "output_type": "execute_result"
    }
   ],
   "source": [
    "strValue = ['뭐 먹지?' , '배부르다' , '해장국' , '짬뽕' , '회덮밥' , '뭐 먹지?' , '배부르다' , '해장국' , '짬뽕' , '회덮밥' ]\n",
    "strValue"
   ]
  },
  {
   "cell_type": "code",
   "execution_count": 195,
   "id": "15dd0738",
   "metadata": {},
   "outputs": [
    {
     "data": {
      "text/plain": [
       "'data - '"
      ]
     },
     "metadata": {},
     "output_type": "display_data"
    },
    {
     "data": {
      "text/html": [
       "<div>\n",
       "<style scoped>\n",
       "    .dataframe tbody tr th:only-of-type {\n",
       "        vertical-align: middle;\n",
       "    }\n",
       "\n",
       "    .dataframe tbody tr th {\n",
       "        vertical-align: top;\n",
       "    }\n",
       "\n",
       "    .dataframe thead th {\n",
       "        text-align: right;\n",
       "    }\n",
       "</style>\n",
       "<table border=\"1\" class=\"dataframe\">\n",
       "  <thead>\n",
       "    <tr style=\"text-align: right;\">\n",
       "      <th></th>\n",
       "      <th>정수</th>\n",
       "      <th>실수</th>\n",
       "      <th>날짜</th>\n",
       "      <th>문자</th>\n",
       "    </tr>\n",
       "  </thead>\n",
       "  <tbody>\n",
       "    <tr>\n",
       "      <th>0</th>\n",
       "      <td>5</td>\n",
       "      <td>0.936055</td>\n",
       "      <td>2022-03-25</td>\n",
       "      <td>뭐 먹지?</td>\n",
       "    </tr>\n",
       "    <tr>\n",
       "      <th>1</th>\n",
       "      <td>7</td>\n",
       "      <td>0.691860</td>\n",
       "      <td>2022-03-26</td>\n",
       "      <td>배부르다</td>\n",
       "    </tr>\n",
       "    <tr>\n",
       "      <th>2</th>\n",
       "      <td>9</td>\n",
       "      <td>0.970662</td>\n",
       "      <td>2022-03-27</td>\n",
       "      <td>해장국</td>\n",
       "    </tr>\n",
       "    <tr>\n",
       "      <th>3</th>\n",
       "      <td>6</td>\n",
       "      <td>0.729855</td>\n",
       "      <td>2022-03-28</td>\n",
       "      <td>짬뽕</td>\n",
       "    </tr>\n",
       "    <tr>\n",
       "      <th>4</th>\n",
       "      <td>8</td>\n",
       "      <td>0.285639</td>\n",
       "      <td>2022-03-29</td>\n",
       "      <td>회덮밥</td>\n",
       "    </tr>\n",
       "    <tr>\n",
       "      <th>5</th>\n",
       "      <td>8</td>\n",
       "      <td>0.110439</td>\n",
       "      <td>2022-03-30</td>\n",
       "      <td>뭐 먹지?</td>\n",
       "    </tr>\n",
       "    <tr>\n",
       "      <th>6</th>\n",
       "      <td>2</td>\n",
       "      <td>0.947644</td>\n",
       "      <td>2022-03-31</td>\n",
       "      <td>배부르다</td>\n",
       "    </tr>\n",
       "    <tr>\n",
       "      <th>7</th>\n",
       "      <td>2</td>\n",
       "      <td>0.531342</td>\n",
       "      <td>2022-04-01</td>\n",
       "      <td>해장국</td>\n",
       "    </tr>\n",
       "    <tr>\n",
       "      <th>8</th>\n",
       "      <td>5</td>\n",
       "      <td>0.051580</td>\n",
       "      <td>2022-04-02</td>\n",
       "      <td>짬뽕</td>\n",
       "    </tr>\n",
       "    <tr>\n",
       "      <th>9</th>\n",
       "      <td>1</td>\n",
       "      <td>0.070078</td>\n",
       "      <td>2022-04-03</td>\n",
       "      <td>회덮밥</td>\n",
       "    </tr>\n",
       "  </tbody>\n",
       "</table>\n",
       "</div>"
      ],
      "text/plain": [
       "   정수        실수         날짜     문자\n",
       "0   5  0.936055 2022-03-25  뭐 먹지?\n",
       "1   7  0.691860 2022-03-26   배부르다\n",
       "2   9  0.970662 2022-03-27    해장국\n",
       "3   6  0.729855 2022-03-28     짬뽕\n",
       "4   8  0.285639 2022-03-29    회덮밥\n",
       "5   8  0.110439 2022-03-30  뭐 먹지?\n",
       "6   2  0.947644 2022-03-31   배부르다\n",
       "7   2  0.531342 2022-04-01    해장국\n",
       "8   5  0.051580 2022-04-02     짬뽕\n",
       "9   1  0.070078 2022-04-03    회덮밥"
      ]
     },
     "metadata": {},
     "output_type": "display_data"
    },
    {
     "name": "stdout",
     "output_type": "stream",
     "text": [
      "\n",
      "shape   -  (10, 4) 10 4\n",
      "size    -  40\n",
      "ndim    -  2\n",
      "index   -  RangeIndex(start=0, stop=10, step=1) <class 'pandas.core.indexes.range.RangeIndex'>\n",
      "columns -  Index(['정수', '실수', '날짜', '문자'], dtype='object') <class 'pandas.core.indexes.base.Index'>\n",
      "values  - \n",
      " [[5 0.9360551449918639 Timestamp('2022-03-25 00:00:00') '뭐 먹지?']\n",
      " [7 0.691860490979982 Timestamp('2022-03-26 00:00:00') '배부르다']\n",
      " [9 0.9706618932841099 Timestamp('2022-03-27 00:00:00') '해장국']\n",
      " [6 0.7298554581193258 Timestamp('2022-03-28 00:00:00') '짬뽕']\n",
      " [8 0.2856393342048177 Timestamp('2022-03-29 00:00:00') '회덮밥']\n",
      " [8 0.11043910932601364 Timestamp('2022-03-30 00:00:00') '뭐 먹지?']\n",
      " [2 0.947643963946241 Timestamp('2022-03-31 00:00:00') '배부르다']\n",
      " [2 0.5313424437420725 Timestamp('2022-04-01 00:00:00') '해장국']\n",
      " [5 0.05157989299649923 Timestamp('2022-04-02 00:00:00') '짬뽕']\n",
      " [1 0.07007825504499798 Timestamp('2022-04-03 00:00:00') '회덮밥']] <class 'numpy.ndarray'>\n"
     ]
    }
   ],
   "source": [
    "data = {\n",
    "    '정수' : intValue , \n",
    "    '실수' : floatValue , \n",
    "    '날짜' : dateValue , \n",
    "    '문자' : strValue\n",
    "}\n",
    "tmp_frm = pd.DataFrame(data)\n",
    "frmInfo(tmp_frm)"
   ]
  },
  {
   "cell_type": "markdown",
   "id": "ae08060b",
   "metadata": {},
   "source": [
    "#### booklist_json.json 파일로부터 데이터를 읽어서 데이터프레임을 만들어 보자[실습]\n",
    "- json.loads() : json으로 된 문자열 파일을 읽어들이 때\n",
    "- json.load()  : json 파일을 읽어들일 때"
   ]
  },
  {
   "cell_type": "code",
   "execution_count": 208,
   "id": "f1361cfe",
   "metadata": {
    "collapsed": true
   },
   "outputs": [
    {
     "name": "stdout",
     "output_type": "stream",
     "text": [
      "books type -  <class 'list'>\n",
      "\n"
     ]
    },
    {
     "data": {
      "text/plain": [
       "'data - '"
      ]
     },
     "metadata": {},
     "output_type": "display_data"
    },
    {
     "data": {
      "text/html": [
       "<div>\n",
       "<style scoped>\n",
       "    .dataframe tbody tr th:only-of-type {\n",
       "        vertical-align: middle;\n",
       "    }\n",
       "\n",
       "    .dataframe tbody tr th {\n",
       "        vertical-align: top;\n",
       "    }\n",
       "\n",
       "    .dataframe thead th {\n",
       "        text-align: right;\n",
       "    }\n",
       "</style>\n",
       "<table border=\"1\" class=\"dataframe\">\n",
       "  <thead>\n",
       "    <tr style=\"text-align: right;\">\n",
       "      <th></th>\n",
       "      <th>bookName</th>\n",
       "      <th>link</th>\n",
       "    </tr>\n",
       "  </thead>\n",
       "  <tbody>\n",
       "    <tr>\n",
       "      <th>0</th>\n",
       "      <td>나는 꼭 필요한 것만 남기기로 했다</td>\n",
       "      <td>http://www.hanbit.co.kr/store/books/look.php?p...</td>\n",
       "    </tr>\n",
       "    <tr>\n",
       "      <th>1</th>\n",
       "      <td>파이썬과 대스크를 활용한 고성능 데이터 분석</td>\n",
       "      <td>http://www.hanbit.co.kr/store/books/look.php?p...</td>\n",
       "    </tr>\n",
       "    <tr>\n",
       "      <th>2</th>\n",
       "      <td>웹어셈블리 인 액션</td>\n",
       "      <td>http://www.hanbit.co.kr/store/books/look.php?p...</td>\n",
       "    </tr>\n",
       "    <tr>\n",
       "      <th>3</th>\n",
       "      <td>쉽게 배워 바로 써먹는 디자인 패턴</td>\n",
       "      <td>http://www.hanbit.co.kr/store/books/look.php?p...</td>\n",
       "    </tr>\n",
       "    <tr>\n",
       "      <th>4</th>\n",
       "      <td>부의 원칙</td>\n",
       "      <td>http://www.hanbit.co.kr/store/books/look.php?p...</td>\n",
       "    </tr>\n",
       "    <tr>\n",
       "      <th>5</th>\n",
       "      <td>만들면서 배우는 픽셀 아트</td>\n",
       "      <td>http://www.hanbit.co.kr/store/books/look.php?p...</td>\n",
       "    </tr>\n",
       "    <tr>\n",
       "      <th>6</th>\n",
       "      <td>초보자를 위한 언리얼 엔진 4 입문</td>\n",
       "      <td>http://www.hanbit.co.kr/store/books/look.php?p...</td>\n",
       "    </tr>\n",
       "    <tr>\n",
       "      <th>7</th>\n",
       "      <td>분산원장 기술</td>\n",
       "      <td>http://www.hanbit.co.kr/store/books/look.php?p...</td>\n",
       "    </tr>\n",
       "    <tr>\n",
       "      <th>8</th>\n",
       "      <td>회사에서 바로 통하는 3ds Max + V-Ray</td>\n",
       "      <td>http://www.hanbit.co.kr/store/books/look.php?p...</td>\n",
       "    </tr>\n",
       "    <tr>\n",
       "      <th>9</th>\n",
       "      <td>재미있고 빠른 한글 쓰기 3권 : 교과서 쉬운 낱말</td>\n",
       "      <td>http://www.hanbit.co.kr/store/books/look.php?p...</td>\n",
       "    </tr>\n",
       "    <tr>\n",
       "      <th>10</th>\n",
       "      <td>나도 초록 식물 잘 키우면 소원이 없겠네</td>\n",
       "      <td>http://www.hanbit.co.kr/store/books/look.php?p...</td>\n",
       "    </tr>\n",
       "    <tr>\n",
       "      <th>11</th>\n",
       "      <td>IT CookBook, 액세스 2019로 배우는 데이터베이스 기초와 실습</td>\n",
       "      <td>http://www.hanbit.co.kr/store/books/look.php?p...</td>\n",
       "    </tr>\n",
       "    <tr>\n",
       "      <th>12</th>\n",
       "      <td>GAN 인 액션</td>\n",
       "      <td>http://www.hanbit.co.kr/store/books/look.php?p...</td>\n",
       "    </tr>\n",
       "    <tr>\n",
       "      <th>13</th>\n",
       "      <td>재미있고 빠른 어휘력 동화 – 아지랑이가 뭐야?</td>\n",
       "      <td>http://www.hanbit.co.kr/store/books/look.php?p...</td>\n",
       "    </tr>\n",
       "    <tr>\n",
       "      <th>14</th>\n",
       "      <td>재미있고 빠른 어휘력 동화 – 많다의 반대가 뭐야?</td>\n",
       "      <td>http://www.hanbit.co.kr/store/books/look.php?p...</td>\n",
       "    </tr>\n",
       "    <tr>\n",
       "      <th>15</th>\n",
       "      <td>만화로 보는 바빌론 부자들의 돈 버는 지혜</td>\n",
       "      <td>http://www.hanbit.co.kr/store/books/look.php?p...</td>\n",
       "    </tr>\n",
       "    <tr>\n",
       "      <th>16</th>\n",
       "      <td>포르잔 C++ 바이블</td>\n",
       "      <td>http://www.hanbit.co.kr/store/books/look.php?p...</td>\n",
       "    </tr>\n",
       "    <tr>\n",
       "      <th>17</th>\n",
       "      <td>청소년 인문학 수업 - 1권</td>\n",
       "      <td>http://www.hanbit.co.kr/store/books/look.php?p...</td>\n",
       "    </tr>\n",
       "    <tr>\n",
       "      <th>18</th>\n",
       "      <td>청소년 인문학 수업 - 2권</td>\n",
       "      <td>http://www.hanbit.co.kr/store/books/look.php?p...</td>\n",
       "    </tr>\n",
       "    <tr>\n",
       "      <th>19</th>\n",
       "      <td>처음 시작하는 파이썬&amp;#40;2판&amp;#41;</td>\n",
       "      <td>http://www.hanbit.co.kr/store/books/look.php?p...</td>\n",
       "    </tr>\n",
       "    <tr>\n",
       "      <th>20</th>\n",
       "      <td>퀀트 전략을 위한 인공지능 트레이딩</td>\n",
       "      <td>http://www.hanbit.co.kr/store/books/look.php?p...</td>\n",
       "    </tr>\n",
       "    <tr>\n",
       "      <th>21</th>\n",
       "      <td>처음 시작하는 딥러닝</td>\n",
       "      <td>http://www.hanbit.co.kr/store/books/look.php?p...</td>\n",
       "    </tr>\n",
       "    <tr>\n",
       "      <th>22</th>\n",
       "      <td>회사에서 바로 통하는 실무 엑셀 매크로&amp;VBA</td>\n",
       "      <td>http://www.hanbit.co.kr/store/books/look.php?p...</td>\n",
       "    </tr>\n",
       "    <tr>\n",
       "      <th>23</th>\n",
       "      <td>게임 오버</td>\n",
       "      <td>http://www.hanbit.co.kr/store/books/look.php?p...</td>\n",
       "    </tr>\n",
       "    <tr>\n",
       "      <th>24</th>\n",
       "      <td>초소형 머신러닝 TinyML</td>\n",
       "      <td>http://www.hanbit.co.kr/store/books/look.php?p...</td>\n",
       "    </tr>\n",
       "    <tr>\n",
       "      <th>25</th>\n",
       "      <td>오늘도 뇌는 거짓말을 한다</td>\n",
       "      <td>http://www.hanbit.co.kr/store/books/look.php?p...</td>\n",
       "    </tr>\n",
       "    <tr>\n",
       "      <th>26</th>\n",
       "      <td>허팝만 따라 해봐! 유튜브 정석</td>\n",
       "      <td>http://www.hanbit.co.kr/store/books/look.php?p...</td>\n",
       "    </tr>\n",
       "    <tr>\n",
       "      <th>27</th>\n",
       "      <td>이것이 취업을 위한 코딩 테스트다 with 파이썬</td>\n",
       "      <td>http://www.hanbit.co.kr/store/books/look.php?p...</td>\n",
       "    </tr>\n",
       "    <tr>\n",
       "      <th>28</th>\n",
       "      <td>딥러닝을 위한 선형대수학</td>\n",
       "      <td>http://www.hanbit.co.kr/store/books/look.php?p...</td>\n",
       "    </tr>\n",
       "    <tr>\n",
       "      <th>29</th>\n",
       "      <td>유닉스의 탄생</td>\n",
       "      <td>http://www.hanbit.co.kr/store/books/look.php?p...</td>\n",
       "    </tr>\n",
       "    <tr>\n",
       "      <th>30</th>\n",
       "      <td>회사에서 바로 통하는  오토캐드 AutoCAD 2021</td>\n",
       "      <td>http://www.hanbit.co.kr/store/books/look.php?p...</td>\n",
       "    </tr>\n",
       "    <tr>\n",
       "      <th>31</th>\n",
       "      <td>IT CookBook, 오라클로 배우는 데이터베이스 개론과 실습&amp;#40;2판&amp;#41;</td>\n",
       "      <td>http://www.hanbit.co.kr/store/books/look.php?p...</td>\n",
       "    </tr>\n",
       "    <tr>\n",
       "      <th>32</th>\n",
       "      <td>별, 걔 다 그립네</td>\n",
       "      <td>http://www.hanbit.co.kr/store/books/look.php?p...</td>\n",
       "    </tr>\n",
       "    <tr>\n",
       "      <th>33</th>\n",
       "      <td>대학을 버려야 대학이 산다</td>\n",
       "      <td>http://www.hanbit.co.kr/store/books/look.php?p...</td>\n",
       "    </tr>\n",
       "    <tr>\n",
       "      <th>34</th>\n",
       "      <td>IT CookBook, 따라 하면서 배우는 사물인터넷</td>\n",
       "      <td>http://www.hanbit.co.kr/store/books/look.php?p...</td>\n",
       "    </tr>\n",
       "    <tr>\n",
       "      <th>35</th>\n",
       "      <td>재미있고 빠른 첫 한글 준비 선 긋기1권 직선∙곡선∙자음∙모음</td>\n",
       "      <td>http://www.hanbit.co.kr/store/books/look.php?p...</td>\n",
       "    </tr>\n",
       "    <tr>\n",
       "      <th>36</th>\n",
       "      <td>재미있고 빠른 첫 한글 4권 쌍자음∙받침</td>\n",
       "      <td>http://www.hanbit.co.kr/store/books/look.php?p...</td>\n",
       "    </tr>\n",
       "    <tr>\n",
       "      <th>37</th>\n",
       "      <td>핸즈온 비지도 학습</td>\n",
       "      <td>http://www.hanbit.co.kr/store/books/look.php?p...</td>\n",
       "    </tr>\n",
       "    <tr>\n",
       "      <th>38</th>\n",
       "      <td>재미있고 빠른 첫 한글 쓰기1권 모음∙자음∙쉬운 낱말</td>\n",
       "      <td>http://www.hanbit.co.kr/store/books/look.php?p...</td>\n",
       "    </tr>\n",
       "    <tr>\n",
       "      <th>39</th>\n",
       "      <td>우리 아이 처음 놀이</td>\n",
       "      <td>http://www.hanbit.co.kr/store/books/look.php?p...</td>\n",
       "    </tr>\n",
       "    <tr>\n",
       "      <th>40</th>\n",
       "      <td>미라클 모닝 기적의 공식&amp;#40;개정판&amp;#41;</td>\n",
       "      <td>http://www.hanbit.co.kr/store/books/look.php?p...</td>\n",
       "    </tr>\n",
       "    <tr>\n",
       "      <th>41</th>\n",
       "      <td>창의적 공학설계&amp;#40;3판&amp;#41;</td>\n",
       "      <td>http://www.hanbit.co.kr/store/books/look.php?p...</td>\n",
       "    </tr>\n",
       "    <tr>\n",
       "      <th>42</th>\n",
       "      <td>R로 하는 다변량 데이터 분석 : 이론부터 실무 활용까지</td>\n",
       "      <td>http://www.hanbit.co.kr/store/books/look.php?p...</td>\n",
       "    </tr>\n",
       "    <tr>\n",
       "      <th>43</th>\n",
       "      <td>공학 핵심수학&amp;#40;2판&amp;#41;  : 기초부터 심화까지 핵심만 쏙쏙</td>\n",
       "      <td>http://www.hanbit.co.kr/store/books/look.php?p...</td>\n",
       "    </tr>\n",
       "    <tr>\n",
       "      <th>44</th>\n",
       "      <td>응용이 보이는 선형대수학 : 파이썬과 함께하는 선형대수학 이론과 응용</td>\n",
       "      <td>http://www.hanbit.co.kr/store/books/look.php?p...</td>\n",
       "    </tr>\n",
       "    <tr>\n",
       "      <th>45</th>\n",
       "      <td>파이썬 증권 데이터 분석</td>\n",
       "      <td>http://www.hanbit.co.kr/store/books/look.php?p...</td>\n",
       "    </tr>\n",
       "    <tr>\n",
       "      <th>46</th>\n",
       "      <td>나의 첫 파이썬&amp;#40;2판&amp;#41;</td>\n",
       "      <td>http://www.hanbit.co.kr/store/books/look.php?p...</td>\n",
       "    </tr>\n",
       "    <tr>\n",
       "      <th>47</th>\n",
       "      <td>나는 왜 네 말이 힘들까</td>\n",
       "      <td>http://www.hanbit.co.kr/store/books/look.php?p...</td>\n",
       "    </tr>\n",
       "    <tr>\n",
       "      <th>48</th>\n",
       "      <td>혼자 공부하는 첫 프로그래밍 with 파이썬</td>\n",
       "      <td>http://www.hanbit.co.kr/store/books/look.php?p...</td>\n",
       "    </tr>\n",
       "    <tr>\n",
       "      <th>49</th>\n",
       "      <td>퇴근길 인문학 수업 : 뉴노멀</td>\n",
       "      <td>http://www.hanbit.co.kr/store/books/look.php?p...</td>\n",
       "    </tr>\n",
       "  </tbody>\n",
       "</table>\n",
       "</div>"
      ],
      "text/plain": [
       "                                           bookName  \\\n",
       "0                               나는 꼭 필요한 것만 남기기로 했다   \n",
       "1                          파이썬과 대스크를 활용한 고성능 데이터 분석   \n",
       "2                                        웹어셈블리 인 액션   \n",
       "3                               쉽게 배워 바로 써먹는 디자인 패턴   \n",
       "4                                             부의 원칙   \n",
       "5                                    만들면서 배우는 픽셀 아트   \n",
       "6                               초보자를 위한 언리얼 엔진 4 입문   \n",
       "7                                           분산원장 기술   \n",
       "8                       회사에서 바로 통하는 3ds Max + V-Ray   \n",
       "9                      재미있고 빠른 한글 쓰기 3권 : 교과서 쉬운 낱말   \n",
       "10                           나도 초록 식물 잘 키우면 소원이 없겠네   \n",
       "11         IT CookBook, 액세스 2019로 배우는 데이터베이스 기초와 실습   \n",
       "12                                         GAN 인 액션   \n",
       "13                       재미있고 빠른 어휘력 동화 – 아지랑이가 뭐야?   \n",
       "14                     재미있고 빠른 어휘력 동화 – 많다의 반대가 뭐야?   \n",
       "15                          만화로 보는 바빌론 부자들의 돈 버는 지혜   \n",
       "16                                      포르잔 C++ 바이블   \n",
       "17                                  청소년 인문학 수업 - 1권   \n",
       "18                                  청소년 인문학 수업 - 2권   \n",
       "19                          처음 시작하는 파이썬&#40;2판&#41;   \n",
       "20                              퀀트 전략을 위한 인공지능 트레이딩   \n",
       "21                                      처음 시작하는 딥러닝   \n",
       "22                        회사에서 바로 통하는 실무 엑셀 매크로&VBA   \n",
       "23                                            게임 오버   \n",
       "24                                  초소형 머신러닝 TinyML   \n",
       "25                                   오늘도 뇌는 거짓말을 한다   \n",
       "26                                허팝만 따라 해봐! 유튜브 정석   \n",
       "27                      이것이 취업을 위한 코딩 테스트다 with 파이썬   \n",
       "28                                    딥러닝을 위한 선형대수학   \n",
       "29                                          유닉스의 탄생   \n",
       "30                   회사에서 바로 통하는  오토캐드 AutoCAD 2021   \n",
       "31  IT CookBook, 오라클로 배우는 데이터베이스 개론과 실습&#40;2판&#41;   \n",
       "32                                       별, 걔 다 그립네   \n",
       "33                                   대학을 버려야 대학이 산다   \n",
       "34                    IT CookBook, 따라 하면서 배우는 사물인터넷   \n",
       "35               재미있고 빠른 첫 한글 준비 선 긋기1권 직선∙곡선∙자음∙모음   \n",
       "36                           재미있고 빠른 첫 한글 4권 쌍자음∙받침   \n",
       "37                                       핸즈온 비지도 학습   \n",
       "38                    재미있고 빠른 첫 한글 쓰기1권 모음∙자음∙쉬운 낱말   \n",
       "39                                      우리 아이 처음 놀이   \n",
       "40                       미라클 모닝 기적의 공식&#40;개정판&#41;   \n",
       "41                             창의적 공학설계&#40;3판&#41;   \n",
       "42                  R로 하는 다변량 데이터 분석 : 이론부터 실무 활용까지   \n",
       "43          공학 핵심수학&#40;2판&#41;  : 기초부터 심화까지 핵심만 쏙쏙   \n",
       "44           응용이 보이는 선형대수학 : 파이썬과 함께하는 선형대수학 이론과 응용   \n",
       "45                                    파이썬 증권 데이터 분석   \n",
       "46                             나의 첫 파이썬&#40;2판&#41;   \n",
       "47                                    나는 왜 네 말이 힘들까   \n",
       "48                         혼자 공부하는 첫 프로그래밍 with 파이썬   \n",
       "49                                 퇴근길 인문학 수업 : 뉴노멀   \n",
       "\n",
       "                                                 link  \n",
       "0   http://www.hanbit.co.kr/store/books/look.php?p...  \n",
       "1   http://www.hanbit.co.kr/store/books/look.php?p...  \n",
       "2   http://www.hanbit.co.kr/store/books/look.php?p...  \n",
       "3   http://www.hanbit.co.kr/store/books/look.php?p...  \n",
       "4   http://www.hanbit.co.kr/store/books/look.php?p...  \n",
       "5   http://www.hanbit.co.kr/store/books/look.php?p...  \n",
       "6   http://www.hanbit.co.kr/store/books/look.php?p...  \n",
       "7   http://www.hanbit.co.kr/store/books/look.php?p...  \n",
       "8   http://www.hanbit.co.kr/store/books/look.php?p...  \n",
       "9   http://www.hanbit.co.kr/store/books/look.php?p...  \n",
       "10  http://www.hanbit.co.kr/store/books/look.php?p...  \n",
       "11  http://www.hanbit.co.kr/store/books/look.php?p...  \n",
       "12  http://www.hanbit.co.kr/store/books/look.php?p...  \n",
       "13  http://www.hanbit.co.kr/store/books/look.php?p...  \n",
       "14  http://www.hanbit.co.kr/store/books/look.php?p...  \n",
       "15  http://www.hanbit.co.kr/store/books/look.php?p...  \n",
       "16  http://www.hanbit.co.kr/store/books/look.php?p...  \n",
       "17  http://www.hanbit.co.kr/store/books/look.php?p...  \n",
       "18  http://www.hanbit.co.kr/store/books/look.php?p...  \n",
       "19  http://www.hanbit.co.kr/store/books/look.php?p...  \n",
       "20  http://www.hanbit.co.kr/store/books/look.php?p...  \n",
       "21  http://www.hanbit.co.kr/store/books/look.php?p...  \n",
       "22  http://www.hanbit.co.kr/store/books/look.php?p...  \n",
       "23  http://www.hanbit.co.kr/store/books/look.php?p...  \n",
       "24  http://www.hanbit.co.kr/store/books/look.php?p...  \n",
       "25  http://www.hanbit.co.kr/store/books/look.php?p...  \n",
       "26  http://www.hanbit.co.kr/store/books/look.php?p...  \n",
       "27  http://www.hanbit.co.kr/store/books/look.php?p...  \n",
       "28  http://www.hanbit.co.kr/store/books/look.php?p...  \n",
       "29  http://www.hanbit.co.kr/store/books/look.php?p...  \n",
       "30  http://www.hanbit.co.kr/store/books/look.php?p...  \n",
       "31  http://www.hanbit.co.kr/store/books/look.php?p...  \n",
       "32  http://www.hanbit.co.kr/store/books/look.php?p...  \n",
       "33  http://www.hanbit.co.kr/store/books/look.php?p...  \n",
       "34  http://www.hanbit.co.kr/store/books/look.php?p...  \n",
       "35  http://www.hanbit.co.kr/store/books/look.php?p...  \n",
       "36  http://www.hanbit.co.kr/store/books/look.php?p...  \n",
       "37  http://www.hanbit.co.kr/store/books/look.php?p...  \n",
       "38  http://www.hanbit.co.kr/store/books/look.php?p...  \n",
       "39  http://www.hanbit.co.kr/store/books/look.php?p...  \n",
       "40  http://www.hanbit.co.kr/store/books/look.php?p...  \n",
       "41  http://www.hanbit.co.kr/store/books/look.php?p...  \n",
       "42  http://www.hanbit.co.kr/store/books/look.php?p...  \n",
       "43  http://www.hanbit.co.kr/store/books/look.php?p...  \n",
       "44  http://www.hanbit.co.kr/store/books/look.php?p...  \n",
       "45  http://www.hanbit.co.kr/store/books/look.php?p...  \n",
       "46  http://www.hanbit.co.kr/store/books/look.php?p...  \n",
       "47  http://www.hanbit.co.kr/store/books/look.php?p...  \n",
       "48  http://www.hanbit.co.kr/store/books/look.php?p...  \n",
       "49  http://www.hanbit.co.kr/store/books/look.php?p...  "
      ]
     },
     "metadata": {},
     "output_type": "display_data"
    },
    {
     "name": "stdout",
     "output_type": "stream",
     "text": [
      "\n",
      "shape   -  (50, 2) 50 2\n",
      "size    -  100\n",
      "ndim    -  2\n",
      "index   -  RangeIndex(start=0, stop=50, step=1) <class 'pandas.core.indexes.range.RangeIndex'>\n",
      "columns -  Index(['bookName', 'link'], dtype='object') <class 'pandas.core.indexes.base.Index'>\n",
      "values  - \n",
      " [['나는 꼭 필요한 것만 남기기로 했다'\n",
      "  'http://www.hanbit.co.kr/store/books/look.php?p_code=B7269609529']\n",
      " ['파이썬과 대스크를 활용한 고성능 데이터 분석'\n",
      "  'http://www.hanbit.co.kr/store/books/look.php?p_code=B4595034178']\n",
      " ['웹어셈블리 인 액션'\n",
      "  'http://www.hanbit.co.kr/store/books/look.php?p_code=B5654500071']\n",
      " ['쉽게 배워 바로 써먹는 디자인 패턴'\n",
      "  'http://www.hanbit.co.kr/store/books/look.php?p_code=B9696096335']\n",
      " ['부의 원칙'\n",
      "  'http://www.hanbit.co.kr/store/books/look.php?p_code=B1303121763']\n",
      " ['만들면서 배우는 픽셀 아트'\n",
      "  'http://www.hanbit.co.kr/store/books/look.php?p_code=B8144473464']\n",
      " ['초보자를 위한 언리얼 엔진 4 입문'\n",
      "  'http://www.hanbit.co.kr/store/books/look.php?p_code=B4792640793']\n",
      " ['분산원장 기술'\n",
      "  'http://www.hanbit.co.kr/store/books/look.php?p_code=B2916452728']\n",
      " ['회사에서 바로 통하는 3ds Max + V-Ray'\n",
      "  'http://www.hanbit.co.kr/store/books/look.php?p_code=B2172775594']\n",
      " ['재미있고 빠른 한글 쓰기 3권 : 교과서 쉬운 낱말'\n",
      "  'http://www.hanbit.co.kr/store/books/look.php?p_code=B8764310258']\n",
      " ['나도 초록 식물 잘 키우면 소원이 없겠네'\n",
      "  'http://www.hanbit.co.kr/store/books/look.php?p_code=B9058586817']\n",
      " ['IT CookBook, 액세스 2019로 배우는 데이터베이스 기초와 실습'\n",
      "  'http://www.hanbit.co.kr/store/books/look.php?p_code=B6503201303']\n",
      " ['GAN 인 액션'\n",
      "  'http://www.hanbit.co.kr/store/books/look.php?p_code=B3137824436']\n",
      " ['재미있고 빠른 어휘력 동화 – 아지랑이가 뭐야?'\n",
      "  'http://www.hanbit.co.kr/store/books/look.php?p_code=B1967812795']\n",
      " ['재미있고 빠른 어휘력 동화 – 많다의 반대가 뭐야?'\n",
      "  'http://www.hanbit.co.kr/store/books/look.php?p_code=B2728411076']\n",
      " ['만화로 보는 바빌론 부자들의 돈 버는 지혜'\n",
      "  'http://www.hanbit.co.kr/store/books/look.php?p_code=B8115627505']\n",
      " ['포르잔 C++ 바이블'\n",
      "  'http://www.hanbit.co.kr/store/books/look.php?p_code=B1851418066']\n",
      " ['청소년 인문학 수업 - 1권'\n",
      "  'http://www.hanbit.co.kr/store/books/look.php?p_code=B9143267027']\n",
      " ['청소년 인문학 수업 - 2권'\n",
      "  'http://www.hanbit.co.kr/store/books/look.php?p_code=B3517216657']\n",
      " ['처음 시작하는 파이썬&#40;2판&#41;'\n",
      "  'http://www.hanbit.co.kr/store/books/look.php?p_code=B4872223435']\n",
      " ['퀀트 전략을 위한 인공지능 트레이딩'\n",
      "  'http://www.hanbit.co.kr/store/books/look.php?p_code=B1740090592']\n",
      " ['처음 시작하는 딥러닝'\n",
      "  'http://www.hanbit.co.kr/store/books/look.php?p_code=B6787201225']\n",
      " ['회사에서 바로 통하는 실무 엑셀 매크로&VBA'\n",
      "  'http://www.hanbit.co.kr/store/books/look.php?p_code=B2672932319']\n",
      " ['게임 오버'\n",
      "  'http://www.hanbit.co.kr/store/books/look.php?p_code=B9279330130']\n",
      " ['초소형 머신러닝 TinyML'\n",
      "  'http://www.hanbit.co.kr/store/books/look.php?p_code=B3963656224']\n",
      " ['오늘도 뇌는 거짓말을 한다'\n",
      "  'http://www.hanbit.co.kr/store/books/look.php?p_code=B3872657116']\n",
      " ['허팝만 따라 해봐! 유튜브 정석'\n",
      "  'http://www.hanbit.co.kr/store/books/look.php?p_code=B8226621719']\n",
      " ['이것이 취업을 위한 코딩 테스트다 with 파이썬'\n",
      "  'http://www.hanbit.co.kr/store/books/look.php?p_code=B8945183661']\n",
      " ['딥러닝을 위한 선형대수학'\n",
      "  'http://www.hanbit.co.kr/store/books/look.php?p_code=B9479195027']\n",
      " ['유닉스의 탄생'\n",
      "  'http://www.hanbit.co.kr/store/books/look.php?p_code=B8460934222']\n",
      " ['회사에서 바로 통하는  오토캐드 AutoCAD 2021'\n",
      "  'http://www.hanbit.co.kr/store/books/look.php?p_code=B1191734987']\n",
      " ['IT CookBook, 오라클로 배우는 데이터베이스 개론과 실습&#40;2판&#41;'\n",
      "  'http://www.hanbit.co.kr/store/books/look.php?p_code=B2082711299']\n",
      " ['별, 걔 다 그립네'\n",
      "  'http://www.hanbit.co.kr/store/books/look.php?p_code=B5877288702']\n",
      " ['대학을 버려야 대학이 산다'\n",
      "  'http://www.hanbit.co.kr/store/books/look.php?p_code=B1825116777']\n",
      " ['IT CookBook, 따라 하면서 배우는 사물인터넷'\n",
      "  'http://www.hanbit.co.kr/store/books/look.php?p_code=B5937482728']\n",
      " ['재미있고 빠른 첫 한글 준비 선 긋기1권 직선∙곡선∙자음∙모음'\n",
      "  'http://www.hanbit.co.kr/store/books/look.php?p_code=B5555860904']\n",
      " ['재미있고 빠른 첫 한글 4권 쌍자음∙받침'\n",
      "  'http://www.hanbit.co.kr/store/books/look.php?p_code=B3397547488']\n",
      " ['핸즈온 비지도 학습'\n",
      "  'http://www.hanbit.co.kr/store/books/look.php?p_code=B7126889829']\n",
      " ['재미있고 빠른 첫 한글 쓰기1권 모음∙자음∙쉬운 낱말'\n",
      "  'http://www.hanbit.co.kr/store/books/look.php?p_code=B7448405310']\n",
      " ['우리 아이 처음 놀이'\n",
      "  'http://www.hanbit.co.kr/store/books/look.php?p_code=B8656803901']\n",
      " ['미라클 모닝 기적의 공식&#40;개정판&#41;'\n",
      "  'http://www.hanbit.co.kr/store/books/look.php?p_code=B9697194640']\n",
      " ['창의적 공학설계&#40;3판&#41;'\n",
      "  'http://www.hanbit.co.kr/store/books/look.php?p_code=B8573612142']\n",
      " ['R로 하는 다변량 데이터 분석 : 이론부터 실무 활용까지'\n",
      "  'http://www.hanbit.co.kr/store/books/look.php?p_code=B8404138031']\n",
      " ['공학 핵심수학&#40;2판&#41;  : 기초부터 심화까지 핵심만 쏙쏙'\n",
      "  'http://www.hanbit.co.kr/store/books/look.php?p_code=B8658821149']\n",
      " ['응용이 보이는 선형대수학 : 파이썬과 함께하는 선형대수학 이론과 응용'\n",
      "  'http://www.hanbit.co.kr/store/books/look.php?p_code=B7926921440']\n",
      " ['파이썬 증권 데이터 분석'\n",
      "  'http://www.hanbit.co.kr/store/books/look.php?p_code=B7026921929']\n",
      " ['나의 첫 파이썬&#40;2판&#41;'\n",
      "  'http://www.hanbit.co.kr/store/books/look.php?p_code=B3745711486']\n",
      " ['나는 왜 네 말이 힘들까'\n",
      "  'http://www.hanbit.co.kr/store/books/look.php?p_code=B7748014142']\n",
      " ['혼자 공부하는 첫 프로그래밍 with 파이썬'\n",
      "  'http://www.hanbit.co.kr/store/books/look.php?p_code=B9609283195']\n",
      " ['퇴근길 인문학 수업 : 뉴노멀'\n",
      "  'http://www.hanbit.co.kr/store/books/look.php?p_code=B7346049104']] <class 'numpy.ndarray'>\n"
     ]
    }
   ],
   "source": [
    "with open('./pandas_data/booklist_json.json' , 'r' , encoding='utf-8') as file :\n",
    "    books = json.load(file)\n",
    "\n",
    "print('books type - ' , type(books))\n",
    "# print(books)\n",
    "\n",
    "print()\n",
    "book_frm = pd.DataFrame(books) \n",
    "frmInfo(book_frm)"
   ]
  },
  {
   "cell_type": "markdown",
   "id": "51903d74",
   "metadata": {},
   "source": [
    "\n",
    "#### url을 이용한 json 파일로부터 데이터를 읽어서 데이터프레임을 만들어 보자[실습]\n",
    "- https://www.kobis.or.kr/kobisopenapi/homepg/apiservice/searchServiceInfo.do?serviceId=searchDailyBoxOffice"
   ]
  },
  {
   "cell_type": "code",
   "execution_count": 219,
   "id": "5b4a3ada",
   "metadata": {},
   "outputs": [
    {
     "name": "stdout",
     "output_type": "stream",
     "text": [
      "type -  <class 'dict'>\n",
      "\n",
      "[{'rnum': '1', 'rank': '1', 'rankInten': '0', 'rankOldAndNew': 'OLD', 'movieCd': '20112207', 'movieNm': '미션임파서블:고스트프로토콜', 'openDt': '2011-12-15', 'salesAmt': '2776060500', 'salesShare': '36.3', 'salesInten': '-415699000', 'salesChange': '-13', 'salesAcc': '40541108500', 'audiCnt': '353274', 'audiInten': '-60106', 'audiChange': '-14.5', 'audiAcc': '5328435', 'scrnCnt': '697', 'showCnt': '3223'}, {'rnum': '2', 'rank': '2', 'rankInten': '1', 'rankOldAndNew': 'OLD', 'movieCd': '20110295', 'movieNm': '마이 웨이', 'openDt': '2011-12-21', 'salesAmt': '1189058500', 'salesShare': '15.6', 'salesInten': '-105894500', 'salesChange': '-8.2', 'salesAcc': '13002897500', 'audiCnt': '153501', 'audiInten': '-16465', 'audiChange': '-9.7', 'audiAcc': '1739543', 'scrnCnt': '588', 'showCnt': '2321'}, {'rnum': '3', 'rank': '3', 'rankInten': '-1', 'rankOldAndNew': 'OLD', 'movieCd': '20112621', 'movieNm': '셜록홈즈 : 그림자 게임', 'openDt': '2011-12-21', 'salesAmt': '1176022500', 'salesShare': '15.4', 'salesInten': '-210328500', 'salesChange': '-15.2', 'salesAcc': '10678327500', 'audiCnt': '153004', 'audiInten': '-31283', 'audiChange': '-17', 'audiAcc': '1442861', 'scrnCnt': '360', 'showCnt': '1832'}, {'rnum': '4', 'rank': '4', 'rankInten': '0', 'rankOldAndNew': 'OLD', 'movieCd': '20113260', 'movieNm': '퍼펙트 게임', 'openDt': '2011-12-21', 'salesAmt': '644532000', 'salesShare': '8.4', 'salesInten': '-75116500', 'salesChange': '-10.4', 'salesAcc': '6640940000', 'audiCnt': '83644', 'audiInten': '-12225', 'audiChange': '-12.8', 'audiAcc': '895416', 'scrnCnt': '396', 'showCnt': '1364'}, {'rnum': '5', 'rank': '5', 'rankInten': '0', 'rankOldAndNew': 'OLD', 'movieCd': '20113271', 'movieNm': '프렌즈: 몬스터섬의비밀 ', 'openDt': '2011-12-29', 'salesAmt': '436753500', 'salesShare': '5.7', 'salesInten': '-89051000', 'salesChange': '-16.9', 'salesAcc': '1523037000', 'audiCnt': '55092', 'audiInten': '-15568', 'audiChange': '-22', 'audiAcc': '202909', 'scrnCnt': '290', 'showCnt': '838'}, {'rnum': '6', 'rank': '6', 'rankInten': '1', 'rankOldAndNew': 'OLD', 'movieCd': '19940256', 'movieNm': '라이온 킹', 'openDt': '1994-07-02', 'salesAmt': '507115500', 'salesShare': '6.6', 'salesInten': '-114593500', 'salesChange': '-18.4', 'salesAcc': '1841625000', 'audiCnt': '45750', 'audiInten': '-11699', 'audiChange': '-20.4', 'audiAcc': '171285', 'scrnCnt': '244', 'showCnt': '895'}, {'rnum': '7', 'rank': '7', 'rankInten': '-1', 'rankOldAndNew': 'OLD', 'movieCd': '20113381', 'movieNm': '오싹한 연애', 'openDt': '2011-12-01', 'salesAmt': '344871000', 'salesShare': '4.5', 'salesInten': '-107005500', 'salesChange': '-23.7', 'salesAcc': '20634684500', 'audiCnt': '45062', 'audiInten': '-15926', 'audiChange': '-26.1', 'audiAcc': '2823060', 'scrnCnt': '243', 'showCnt': '839'}, {'rnum': '8', 'rank': '8', 'rankInten': '0', 'rankOldAndNew': 'OLD', 'movieCd': '20112709', 'movieNm': '극장판 포켓몬스터 베스트 위시「비크티니와 백의 영웅 레시라무」', 'openDt': '2011-12-22', 'salesAmt': '167809500', 'salesShare': '2.2', 'salesInten': '-45900500', 'salesChange': '-21.5', 'salesAcc': '1897120000', 'audiCnt': '24202', 'audiInten': '-7756', 'audiChange': '-24.3', 'audiAcc': '285959', 'scrnCnt': '186', 'showCnt': '348'}, {'rnum': '9', 'rank': '9', 'rankInten': '0', 'rankOldAndNew': 'OLD', 'movieCd': '20113311', 'movieNm': '앨빈과 슈퍼밴드3', 'openDt': '2011-12-15', 'salesAmt': '137030000', 'salesShare': '1.8', 'salesInten': '-35408000', 'salesChange': '-20.5', 'salesAcc': '3416675000', 'audiCnt': '19729', 'audiInten': '-6461', 'audiChange': '-24.7', 'audiAcc': '516289', 'scrnCnt': '169', 'showCnt': '359'}, {'rnum': '10', 'rank': '10', 'rankInten': '0', 'rankOldAndNew': 'OLD', 'movieCd': '20112708', 'movieNm': '극장판 포켓몬스터 베스트 위시 「비크티니와 흑의 영웅 제크로무」', 'openDt': '2011-12-22', 'salesAmt': '125535500', 'salesShare': '1.6', 'salesInten': '-40756000', 'salesChange': '-24.5', 'salesAcc': '1595695000', 'audiCnt': '17817', 'audiInten': '-6554', 'audiChange': '-26.9', 'audiAcc': '235070', 'scrnCnt': '175', 'showCnt': '291'}]\n"
     ]
    },
    {
     "data": {
      "text/plain": [
       "'data - '"
      ]
     },
     "metadata": {},
     "output_type": "display_data"
    },
    {
     "data": {
      "text/html": [
       "<div>\n",
       "<style scoped>\n",
       "    .dataframe tbody tr th:only-of-type {\n",
       "        vertical-align: middle;\n",
       "    }\n",
       "\n",
       "    .dataframe tbody tr th {\n",
       "        vertical-align: top;\n",
       "    }\n",
       "\n",
       "    .dataframe thead th {\n",
       "        text-align: right;\n",
       "    }\n",
       "</style>\n",
       "<table border=\"1\" class=\"dataframe\">\n",
       "  <thead>\n",
       "    <tr style=\"text-align: right;\">\n",
       "      <th></th>\n",
       "      <th>rank</th>\n",
       "      <th>title</th>\n",
       "      <th>amount</th>\n",
       "    </tr>\n",
       "  </thead>\n",
       "  <tbody>\n",
       "    <tr>\n",
       "      <th>0</th>\n",
       "      <td>1</td>\n",
       "      <td>미션임파서블:고스트프로토콜</td>\n",
       "      <td>2776060500</td>\n",
       "    </tr>\n",
       "    <tr>\n",
       "      <th>1</th>\n",
       "      <td>2</td>\n",
       "      <td>마이 웨이</td>\n",
       "      <td>1189058500</td>\n",
       "    </tr>\n",
       "    <tr>\n",
       "      <th>2</th>\n",
       "      <td>3</td>\n",
       "      <td>셜록홈즈 : 그림자 게임</td>\n",
       "      <td>1176022500</td>\n",
       "    </tr>\n",
       "    <tr>\n",
       "      <th>3</th>\n",
       "      <td>4</td>\n",
       "      <td>퍼펙트 게임</td>\n",
       "      <td>644532000</td>\n",
       "    </tr>\n",
       "    <tr>\n",
       "      <th>4</th>\n",
       "      <td>5</td>\n",
       "      <td>프렌즈: 몬스터섬의비밀</td>\n",
       "      <td>436753500</td>\n",
       "    </tr>\n",
       "    <tr>\n",
       "      <th>5</th>\n",
       "      <td>6</td>\n",
       "      <td>라이온 킹</td>\n",
       "      <td>507115500</td>\n",
       "    </tr>\n",
       "    <tr>\n",
       "      <th>6</th>\n",
       "      <td>7</td>\n",
       "      <td>오싹한 연애</td>\n",
       "      <td>344871000</td>\n",
       "    </tr>\n",
       "    <tr>\n",
       "      <th>7</th>\n",
       "      <td>8</td>\n",
       "      <td>극장판 포켓몬스터 베스트 위시「비크티니와 백의 영웅 레시라무」</td>\n",
       "      <td>167809500</td>\n",
       "    </tr>\n",
       "    <tr>\n",
       "      <th>8</th>\n",
       "      <td>9</td>\n",
       "      <td>앨빈과 슈퍼밴드3</td>\n",
       "      <td>137030000</td>\n",
       "    </tr>\n",
       "    <tr>\n",
       "      <th>9</th>\n",
       "      <td>10</td>\n",
       "      <td>극장판 포켓몬스터 베스트 위시 「비크티니와 흑의 영웅 제크로무」</td>\n",
       "      <td>125535500</td>\n",
       "    </tr>\n",
       "  </tbody>\n",
       "</table>\n",
       "</div>"
      ],
      "text/plain": [
       "  rank                                title      amount\n",
       "0    1                       미션임파서블:고스트프로토콜  2776060500\n",
       "1    2                                마이 웨이  1189058500\n",
       "2    3                        셜록홈즈 : 그림자 게임  1176022500\n",
       "3    4                               퍼펙트 게임   644532000\n",
       "4    5                        프렌즈: 몬스터섬의비밀    436753500\n",
       "5    6                                라이온 킹   507115500\n",
       "6    7                               오싹한 연애   344871000\n",
       "7    8   극장판 포켓몬스터 베스트 위시「비크티니와 백의 영웅 레시라무」   167809500\n",
       "8    9                            앨빈과 슈퍼밴드3   137030000\n",
       "9   10  극장판 포켓몬스터 베스트 위시 「비크티니와 흑의 영웅 제크로무」   125535500"
      ]
     },
     "metadata": {},
     "output_type": "display_data"
    },
    {
     "name": "stdout",
     "output_type": "stream",
     "text": [
      "\n",
      "shape   -  (10, 3) 10 3\n",
      "size    -  30\n",
      "ndim    -  2\n",
      "index   -  RangeIndex(start=0, stop=10, step=1) <class 'pandas.core.indexes.range.RangeIndex'>\n",
      "columns -  Index(['rank', 'title', 'amount'], dtype='object') <class 'pandas.core.indexes.base.Index'>\n",
      "values  - \n",
      " [['1' '미션임파서블:고스트프로토콜' '2776060500']\n",
      " ['2' '마이 웨이' '1189058500']\n",
      " ['3' '셜록홈즈 : 그림자 게임' '1176022500']\n",
      " ['4' '퍼펙트 게임' '644532000']\n",
      " ['5' '프렌즈: 몬스터섬의비밀 ' '436753500']\n",
      " ['6' '라이온 킹' '507115500']\n",
      " ['7' '오싹한 연애' '344871000']\n",
      " ['8' '극장판 포켓몬스터 베스트 위시「비크티니와 백의 영웅 레시라무」' '167809500']\n",
      " ['9' '앨빈과 슈퍼밴드3' '137030000']\n",
      " ['10' '극장판 포켓몬스터 베스트 위시 「비크티니와 흑의 영웅 제크로무」' '125535500']] <class 'numpy.ndarray'>\n"
     ]
    }
   ],
   "source": [
    "url = 'http://kobis.or.kr/kobisopenapi/webservice/rest/boxoffice/searchDailyBoxOfficeList.json?key=f5eef3421c602c6cb7ea224104795888&targetDt=20120101'\n",
    "response = urllib.request.urlopen(url)\n",
    "# print('response - ' , response.read())\n",
    "# rank , movieNm , salesAmt\n",
    "\n",
    "json_data = json.loads(response.read())\n",
    "print('type - ', type(json_data))\n",
    "print()\n",
    "# print(json_data)\n",
    "\n",
    "data = json_data['boxOfficeResult']['dailyBoxOfficeList']\n",
    "print(data)\n",
    "\n",
    "ranks  = []\n",
    "movies = [] \n",
    "amts   = []\n",
    "\n",
    "for d in data :\n",
    "    ranks.append(d['rank'])\n",
    "    movies.append(d['movieNm'])\n",
    "    amts.append(d['salesAmt'])\n",
    "\n",
    "data_dict = {\n",
    "    'rank'   : ranks , \n",
    "    'title'  : movies , \n",
    "    'amount' : amts  \n",
    "}    \n",
    "\n",
    "tmp_frm = pd.DataFrame(data_dict)\n",
    "frmInfo(tmp_frm)"
   ]
  },
  {
   "cell_type": "code",
   "execution_count": null,
   "id": "d5cabfbf",
   "metadata": {},
   "outputs": [],
   "source": []
  },
  {
   "cell_type": "code",
   "execution_count": null,
   "id": "e084ea75",
   "metadata": {},
   "outputs": [],
   "source": []
  },
  {
   "cell_type": "code",
   "execution_count": null,
   "id": "a5be1f26",
   "metadata": {},
   "outputs": [],
   "source": []
  },
  {
   "cell_type": "code",
   "execution_count": null,
   "id": "11a857b9",
   "metadata": {},
   "outputs": [],
   "source": []
  },
  {
   "cell_type": "code",
   "execution_count": null,
   "id": "61715b53",
   "metadata": {},
   "outputs": [],
   "source": []
  },
  {
   "cell_type": "code",
   "execution_count": null,
   "id": "dc36d772",
   "metadata": {},
   "outputs": [],
   "source": []
  },
  {
   "cell_type": "code",
   "execution_count": null,
   "id": "627aaeb3",
   "metadata": {},
   "outputs": [],
   "source": []
  },
  {
   "cell_type": "code",
   "execution_count": null,
   "id": "d6841b0f",
   "metadata": {},
   "outputs": [],
   "source": []
  }
 ],
 "metadata": {
  "kernelspec": {
   "display_name": "Python 3 (ipykernel)",
   "language": "python",
   "name": "python3"
  },
  "language_info": {
   "codemirror_mode": {
    "name": "ipython",
    "version": 3
   },
   "file_extension": ".py",
   "mimetype": "text/x-python",
   "name": "python",
   "nbconvert_exporter": "python",
   "pygments_lexer": "ipython3",
   "version": "3.9.7"
  }
 },
 "nbformat": 4,
 "nbformat_minor": 5
}
