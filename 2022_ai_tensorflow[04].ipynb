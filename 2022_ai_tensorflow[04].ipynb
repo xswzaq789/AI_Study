{
  "nbformat": 4,
  "nbformat_minor": 0,
  "metadata": {
    "colab": {
      "name": "2022_ai_tensorflow[04].ipynb",
      "provenance": [],
      "collapsed_sections": []
    },
    "kernelspec": {
      "name": "python3",
      "display_name": "Python 3"
    },
    "language_info": {
      "name": "python"
    },
    "accelerator": "GPU"
  },
  "cells": [
    {
      "cell_type": "code",
      "execution_count": 60,
      "metadata": {
        "id": "43VSw8mvXJLW"
      },
      "outputs": [],
      "source": [
        "from tensorflow.keras.datasets   import boston_housing , mnist , fashion_mnist , reuters\n",
        "from tensorflow.keras.models     import Sequential , clone_model , Model , load_model\n",
        "from tensorflow.keras.layers     import Dense , Activation , InputLayer , Flatten , Input , BatchNormalization , Dropout , Embedding\n",
        "from tensorflow.keras.wrappers.scikit_learn import KerasClassifier\n",
        "\n",
        "# CNN\n",
        "from tensorflow.keras.layers     import Conv2D , MaxPooling2D , AveragePooling2D\n",
        "\n",
        "# RNN\n",
        "from tensorflow.keras.layers     import SimpleRNN , LSTM\n",
        "\n",
        "\n",
        "from tensorflow.keras            import optimizers  \n",
        "from tensorflow.keras.callbacks  import EarlyStopping , ModelCheckpoint , Callback\n",
        "from tensorflow.keras.optimizers import SGD , Adam , RMSprop\n",
        "\n",
        "# 이미지 로드\n",
        "from tensorflow.keras.preprocessing import image\n",
        "from tensorflow.keras.preprocessing.image import ImageDataGenerator \n",
        "\n",
        "# 자연어 처리\n",
        "from tensorflow.keras.preprocessing.text          import Tokenizer\n",
        "from tensorflow.keras.preprocessing.sequence      import pad_sequences\n",
        "\n",
        "from keras.utils.np_utils      import to_categorical\n",
        "\n",
        "from sklearn.datasets          import load_iris , load_breast_cancer , load_digits\n",
        "from sklearn.model_selection   import train_test_split\n",
        "from sklearn.metrics           import accuracy_score\n",
        "import matplotlib.pyplot as plt\n",
        "\n",
        "import numpy  as np\n",
        "import pandas as pd\n"
      ]
    },
    {
      "cell_type": "markdown",
      "source": [
        "#### Recurrent Neural Network(RNN)\n",
        "- 데이터가 입력되는 순서가 중요한 역할을 하는 순차형 정보를 처리하기위한 구조"
      ],
      "metadata": {
        "id": "5nDYCrR9qgeN"
      }
    },
    {
      "cell_type": "code",
      "source": [
        "print('rnn 모델 데이터 입력 - ') \n",
        "\n",
        "# batch_size : 모델이 학습할 때 고려되는 인스턴스의 갯수\n",
        "# timesteps  : 인풋 시퀀스의 갯수\n",
        "# input_dim  : 인풋 시퀀스의 차원(feature 수) \n",
        "\n",
        "x = np.array( [ [[1,2,3],[4,5,6]] , \n",
        "                [[1,2,3],[4,5,6]] , \n",
        "                [[1,2,3],[4,5,6]] ])\n",
        "\n",
        "print('batch_size , timesteps , input_dim = ' , x.shape)\n"
      ],
      "metadata": {
        "colab": {
          "base_uri": "https://localhost:8080/"
        },
        "id": "-fHzqKyIbUVi",
        "outputId": "4cd9c744-d842-443e-970a-761fa301567d"
      },
      "execution_count": 3,
      "outputs": [
        {
          "output_type": "stream",
          "name": "stdout",
          "text": [
            "rnn 모델 데이터 입력 - \n",
            "batch_size , timesteps , input_dim =  (3, 2, 3)\n"
          ]
        }
      ]
    },
    {
      "cell_type": "code",
      "source": [
        "rnn = SimpleRNN(50)(Input(shape=(10, 30))) \n",
        "rnn.shape\n"
      ],
      "metadata": {
        "colab": {
          "base_uri": "https://localhost:8080/"
        },
        "id": "zI9it08ftC4t",
        "outputId": "344ee159-93e8-4286-9784-37374d6ce42a"
      },
      "execution_count": 29,
      "outputs": [
        {
          "output_type": "execute_result",
          "data": {
            "text/plain": [
              "TensorShape([None, 50])"
            ]
          },
          "metadata": {},
          "execution_count": 29
        }
      ]
    },
    {
      "cell_type": "code",
      "source": [
        "rnn = SimpleRNN(50 , return_sequences= True )(Input(shape=(10, 30))) \n",
        "rnn.shape"
      ],
      "metadata": {
        "colab": {
          "base_uri": "https://localhost:8080/"
        },
        "id": "6qK2BfFluNLs",
        "outputId": "aefe627b-f251-49d6-8ef2-adce6d00b688"
      },
      "execution_count": 6,
      "outputs": [
        {
          "output_type": "execute_result",
          "data": {
            "text/plain": [
              "TensorShape([None, 10, 50])"
            ]
          },
          "metadata": {},
          "execution_count": 6
        }
      ]
    },
    {
      "cell_type": "code",
      "source": [
        "rnn = SimpleRNN(50 , return_sequences= True , return_state = True )(Input(shape=(10, 30))) \n",
        "print('shape of output - ' , rnn[0].shape)\n",
        "print('shape of state  - ' , rnn[1].shape)"
      ],
      "metadata": {
        "colab": {
          "base_uri": "https://localhost:8080/"
        },
        "id": "8iLX6v7EujMQ",
        "outputId": "5f842c92-b640-43a8-d078-37bf5f0b0617"
      },
      "execution_count": 10,
      "outputs": [
        {
          "output_type": "stream",
          "name": "stdout",
          "text": [
            "shape of output -  (None, 10, 50)\n",
            "shape of state  -  (None, 50)\n"
          ]
        }
      ]
    },
    {
      "cell_type": "markdown",
      "source": [
        "#### LSTM(Long Short-Term Memory)\n"
      ],
      "metadata": {
        "id": "HiR7Ib5SvpRI"
      }
    },
    {
      "cell_type": "code",
      "source": [
        "lstm = LSTM(50 , return_sequences= True , return_state = True )(Input(shape=(10, 30))) \n",
        "print('shape of output        - ' , lstm[0].shape)\n",
        "print('shape of hidden state  - ' , lstm[1].shape)\n",
        "print('shape of cell   state  - ' , lstm[2].shape)"
      ],
      "metadata": {
        "colab": {
          "base_uri": "https://localhost:8080/"
        },
        "id": "UkFdSSPlvMs5",
        "outputId": "8faa8ed3-7d32-415c-ab4d-94a79115836c"
      },
      "execution_count": 12,
      "outputs": [
        {
          "output_type": "stream",
          "name": "stdout",
          "text": [
            "shape of output        -  (None, 10, 50)\n",
            "shape of hidden state  -  (None, 50)\n",
            "shape of cell   state  -  (None, 50)\n"
          ]
        }
      ]
    },
    {
      "cell_type": "markdown",
      "source": [
        ""
      ],
      "metadata": {
        "id": "KE3sDKmNw2pf"
      }
    },
    {
      "cell_type": "markdown",
      "source": [
        "#### 순환신경망 만들기 - reuters"
      ],
      "metadata": {
        "id": "s1PMCyGiw36C"
      }
    },
    {
      "cell_type": "code",
      "source": [
        "(X_train , y_train) , (X_test , y_test) = reuters.load_data(num_words = 30000 , \n",
        "                                                            maxlen    = 100    , \n",
        "                                                            test_split = 0.3 ) \n",
        "(X_train.shape , y_train.shape) , (X_test.shape , y_test.shape)"
      ],
      "metadata": {
        "colab": {
          "base_uri": "https://localhost:8080/"
        },
        "id": "ifovtbbbwGqM",
        "outputId": "71658356-7e7c-4728-a9fe-8a078b1a09f8"
      },
      "execution_count": 34,
      "outputs": [
        {
          "output_type": "execute_result",
          "data": {
            "text/plain": [
              "(((4180,), (4180,)), ((1792,), (1792,)))"
            ]
          },
          "metadata": {},
          "execution_count": 34
        }
      ]
    },
    {
      "cell_type": "code",
      "source": [
        "X_train[0]"
      ],
      "metadata": {
        "id": "P2oWYqbtw1lO"
      },
      "execution_count": null,
      "outputs": []
    },
    {
      "cell_type": "code",
      "source": [
        "y_train[:100]"
      ],
      "metadata": {
        "colab": {
          "base_uri": "https://localhost:8080/"
        },
        "id": "f_w1y2TNxrcD",
        "outputId": "e364ae6d-701c-46ac-e004-d63ef65e7812"
      },
      "execution_count": 36,
      "outputs": [
        {
          "output_type": "execute_result",
          "data": {
            "text/plain": [
              "array([ 3,  4,  3,  3,  3,  4,  8,  3,  3, 21,  4,  3,  3,  3,  1,  3,  3,\n",
              "        3, 11, 16, 18, 25, 19,  3,  4,  3,  3,  4,  3,  4,  3, 35,  8,  4,\n",
              "        3, 10,  4,  4,  3,  3,  3,  3,  3,  4,  4,  4,  2,  3,  1, 19,  4,\n",
              "        3,  4,  4,  4,  3,  3,  3, 11,  3, 13,  1,  3, 21, 19,  4,  3,  3,\n",
              "        3,  4,  4,  3,  6,  3,  4,  3,  4,  7,  3, 19,  8,  3,  4,  4,  3,\n",
              "        3, 16,  3,  4,  1,  3,  3,  3,  3,  4,  3,  3, 13,  3,  1])"
            ]
          },
          "metadata": {},
          "execution_count": 36
        }
      ]
    },
    {
      "cell_type": "code",
      "source": [
        "X_train = pad_sequences(X_train , padding = 'post')\n",
        "X_test  = pad_sequences(X_test , padding = 'post')"
      ],
      "metadata": {
        "id": "I2cBDrlhx8y0"
      },
      "execution_count": 37,
      "outputs": []
    },
    {
      "cell_type": "code",
      "source": [
        "X_train[0]"
      ],
      "metadata": {
        "colab": {
          "base_uri": "https://localhost:8080/"
        },
        "id": "QQ4M-LS-ycXl",
        "outputId": "110e407d-6727-49fc-a032-a1ccb7104041"
      },
      "execution_count": 38,
      "outputs": [
        {
          "output_type": "execute_result",
          "data": {
            "text/plain": [
              "array([    1, 27595, 28842,     8,    43,    10,   447,     5,    25,\n",
              "         207,   270,     5,  3095,   111,    16,   369,   186,    90,\n",
              "          67,     7,    89,     5,    19,   102,     6,    19,   124,\n",
              "          15,    90,    67,    84,    22,   482,    26,     7,    48,\n",
              "           4,    49,     8,   864,    39,   209,   154,     6,   151,\n",
              "           6,    83,    11,    15,    22,   155,    11,    15,     7,\n",
              "          48,     9,  4579,  1005,   504,     6,   258,     6,   272,\n",
              "          11,    15,    22,   134,    44,    11,    15,    16,     8,\n",
              "         197,  1245,    90,    67,    52,    29,   209,    30,    32,\n",
              "         132,     6,   109,    15,    17,    12,     0,     0,     0,\n",
              "           0,     0,     0,     0,     0,     0,     0,     0,     0],\n",
              "      dtype=int32)"
            ]
          },
          "metadata": {},
          "execution_count": 38
        }
      ]
    },
    {
      "cell_type": "code",
      "source": [
        "(X_train.shape , y_train.shape) , (X_test.shape , y_test.shape)"
      ],
      "metadata": {
        "colab": {
          "base_uri": "https://localhost:8080/"
        },
        "id": "Dy6AShdsyd9V",
        "outputId": "bdf329e0-7d48-481b-9952-4ef3710e488e"
      },
      "execution_count": 39,
      "outputs": [
        {
          "output_type": "execute_result",
          "data": {
            "text/plain": [
              "(((4180, 99), (4180,)), ((1792, 99), (1792,)))"
            ]
          },
          "metadata": {},
          "execution_count": 39
        }
      ]
    },
    {
      "cell_type": "code",
      "source": [
        "print('rnn 은 input shape으로 2개의 파라미터를 받아야 하므로 차원변환 - ') \n",
        "X_train = np.array(X_train).reshape( (X_train.shape[0] , X_train.shape[1] , 1)) \n",
        "X_test  = np.array(X_test).reshape( (X_test.shape[0] , X_test.shape[1] , 1)) "
      ],
      "metadata": {
        "colab": {
          "base_uri": "https://localhost:8080/"
        },
        "id": "n0ul4Ihwyobi",
        "outputId": "ce5863af-7bc0-4dbc-8e8a-fa75db87f4a6"
      },
      "execution_count": 40,
      "outputs": [
        {
          "output_type": "stream",
          "name": "stdout",
          "text": [
            "rnn 은 input shape으로 2개의 파라미터를 받아야 하므로 차원변환 - \n"
          ]
        }
      ]
    },
    {
      "cell_type": "code",
      "source": [
        "(X_train.shape , y_train.shape) , (X_test.shape , y_test.shape)"
      ],
      "metadata": {
        "colab": {
          "base_uri": "https://localhost:8080/"
        },
        "id": "39e8X2lxz5qC",
        "outputId": "5ad7c33c-f2fa-44fc-9801-8bcaaf70331b"
      },
      "execution_count": 41,
      "outputs": [
        {
          "output_type": "execute_result",
          "data": {
            "text/plain": [
              "(((4180, 99, 1), (4180,)), ((1792, 99, 1), (1792,)))"
            ]
          },
          "metadata": {},
          "execution_count": 41
        }
      ]
    },
    {
      "cell_type": "code",
      "source": [
        "y_data = np.concatenate((y_train , y_test))\n",
        "\n",
        "y_data = to_categorical(y_data)\n"
      ],
      "metadata": {
        "id": "6D90Au0rz60q"
      },
      "execution_count": 42,
      "outputs": []
    },
    {
      "cell_type": "code",
      "source": [
        "(X_train.shape , y_train.shape) , (X_test.shape , y_test.shape)"
      ],
      "metadata": {
        "colab": {
          "base_uri": "https://localhost:8080/"
        },
        "id": "xmbYkg_00P6m",
        "outputId": "02ad54d6-8d4b-4bd9-a659-93218b0f1c13"
      },
      "execution_count": 43,
      "outputs": [
        {
          "output_type": "execute_result",
          "data": {
            "text/plain": [
              "(((4180, 99, 1), (4180,)), ((1792, 99, 1), (1792,)))"
            ]
          },
          "metadata": {},
          "execution_count": 43
        }
      ]
    },
    {
      "cell_type": "code",
      "source": [
        "y_train = y_data[ : 4180]\n",
        "y_test  = y_data[4180 : ]"
      ],
      "metadata": {
        "id": "P4KYUYvq0RJu"
      },
      "execution_count": 44,
      "outputs": []
    },
    {
      "cell_type": "code",
      "source": [
        "(X_train.shape , y_train.shape) , (X_test.shape , y_test.shape)"
      ],
      "metadata": {
        "colab": {
          "base_uri": "https://localhost:8080/"
        },
        "id": "78WDaAPl05Uu",
        "outputId": "8f3d9a1e-930e-49a1-a77a-4910c4d132cb"
      },
      "execution_count": 45,
      "outputs": [
        {
          "output_type": "execute_result",
          "data": {
            "text/plain": [
              "(((4180, 99, 1), (4180, 46)), ((1792, 99, 1), (1792, 46)))"
            ]
          },
          "metadata": {},
          "execution_count": 45
        }
      ]
    },
    {
      "cell_type": "code",
      "source": [
        "def vanilla_rnn() :\n",
        "\n",
        "  model = Sequential()\n",
        "  model.add( SimpleRNN(50 , input_shape = (99, 1) , return_sequences = False )) \n",
        "\n",
        "  model.add( Dense(46) )\n",
        "  model.add( Activation('softmax'))\n",
        "\n",
        "  model.compile(optimizer = Adam(lr = 0.001) , \n",
        "                loss      = 'categorical_crossentropy' , \n",
        "                metrics   = ['accuracy']) \n",
        "  return model \n",
        "\n",
        "def stacked_vanilla_rnn() :\n",
        "\n",
        "  model = Sequential()\n",
        "\n",
        "  model.add( SimpleRNN(50 , input_shape = (99, 1) , return_sequences = True )) \n",
        "  model.add( SimpleRNN(50 , return_sequences = False )) \n",
        "\n",
        "  model.add( Dense(46) )\n",
        "  model.add( Activation('softmax'))\n",
        "\n",
        "  model.compile(optimizer = Adam(lr = 0.001) , \n",
        "                loss      = 'categorical_crossentropy' , \n",
        "                metrics   = ['accuracy']) \n",
        "  return model \n",
        "\n",
        "def stacked_vanilla_lstm() :\n",
        "\n",
        "  model = Sequential()\n",
        "\n",
        "  model.add( LSTM(50 , input_shape = (99, 1) , return_sequences = True )) \n",
        "  model.add( LSTM(40 , return_sequences = False)) \n",
        "\n",
        "  model.add( Dense(46) )\n",
        "  model.add( Activation('softmax'))\n",
        "\n",
        "  model.compile(optimizer = Adam(lr = 0.001) , \n",
        "                loss      = 'categorical_crossentropy' , \n",
        "                metrics   = ['accuracy']) \n",
        "  return model "
      ],
      "metadata": {
        "id": "iDVKeEvz06rO"
      },
      "execution_count": 73,
      "outputs": []
    },
    {
      "cell_type": "code",
      "source": [
        "model = KerasClassifier(build_fn   = vanilla_rnn , \n",
        "                        epochs     = 5 , \n",
        "                        batch_size = 50 , \n",
        "                        verbose    = 1)\n",
        "model.fit(X_train , y_train)"
      ],
      "metadata": {
        "colab": {
          "base_uri": "https://localhost:8080/"
        },
        "id": "CrRH8JUi69kC",
        "outputId": "51d16148-64b4-487c-9929-8510ae5f14e9"
      },
      "execution_count": 67,
      "outputs": [
        {
          "output_type": "stream",
          "name": "stdout",
          "text": [
            "Epoch 1/5\n"
          ]
        },
        {
          "output_type": "stream",
          "name": "stderr",
          "text": [
            "/usr/local/lib/python3.7/dist-packages/ipykernel_launcher.py:4: DeprecationWarning: KerasClassifier is deprecated, use Sci-Keras (https://github.com/adriangb/scikeras) instead. See https://www.adriangb.com/scikeras/stable/migration.html for help migrating.\n",
            "  after removing the cwd from sys.path.\n",
            "/usr/local/lib/python3.7/dist-packages/keras/optimizer_v2/adam.py:105: UserWarning: The `lr` argument is deprecated, use `learning_rate` instead.\n",
            "  super(Adam, self).__init__(name, **kwargs)\n"
          ]
        },
        {
          "output_type": "stream",
          "name": "stdout",
          "text": [
            "84/84 [==============================] - 11s 115ms/step - loss: 2.2878 - accuracy: 0.4074\n",
            "Epoch 2/5\n",
            "84/84 [==============================] - 10s 119ms/step - loss: 1.8881 - accuracy: 0.5012\n",
            "Epoch 3/5\n",
            "84/84 [==============================] - 10s 117ms/step - loss: 1.8835 - accuracy: 0.5010\n",
            "Epoch 4/5\n",
            "84/84 [==============================] - 10s 118ms/step - loss: 1.8817 - accuracy: 0.5019\n",
            "Epoch 5/5\n",
            "84/84 [==============================] - 10s 117ms/step - loss: 1.8803 - accuracy: 0.5000\n"
          ]
        },
        {
          "output_type": "execute_result",
          "data": {
            "text/plain": [
              "<keras.callbacks.History at 0x7feaff75e6d0>"
            ]
          },
          "metadata": {},
          "execution_count": 67
        }
      ]
    },
    {
      "cell_type": "code",
      "source": [
        "y_pred = model.predict(X_test)\n",
        "y_pred"
      ],
      "metadata": {
        "colab": {
          "base_uri": "https://localhost:8080/"
        },
        "id": "EkvHgWcv7rri",
        "outputId": "266017f0-1f18-415f-adf9-31c5de496dda"
      },
      "execution_count": 54,
      "outputs": [
        {
          "output_type": "execute_result",
          "data": {
            "text/plain": [
              "array([3, 3, 3, ..., 3, 3, 4])"
            ]
          },
          "metadata": {},
          "execution_count": 54
        }
      ]
    },
    {
      "cell_type": "code",
      "source": [
        "y_test_ = np.argmax(y_test , axis = 1)\n",
        "y_test_"
      ],
      "metadata": {
        "colab": {
          "base_uri": "https://localhost:8080/"
        },
        "id": "jXiSNoNi96nx",
        "outputId": "26d7f393-04c0-4ffa-d9ff-b8c0f092308c"
      },
      "execution_count": 58,
      "outputs": [
        {
          "output_type": "execute_result",
          "data": {
            "text/plain": [
              "array([4, 4, 3, ..., 3, 3, 3])"
            ]
          },
          "metadata": {},
          "execution_count": 58
        }
      ]
    },
    {
      "cell_type": "code",
      "source": [
        "accuracy_score(y_pred , y_test_)"
      ],
      "metadata": {
        "colab": {
          "base_uri": "https://localhost:8080/"
        },
        "id": "ausVRJEk-B5h",
        "outputId": "a4f265af-e5b1-4784-feed-2b57004e5732"
      },
      "execution_count": 61,
      "outputs": [
        {
          "output_type": "execute_result",
          "data": {
            "text/plain": [
              "0.5061383928571429"
            ]
          },
          "metadata": {},
          "execution_count": 61
        }
      ]
    },
    {
      "cell_type": "code",
      "source": [
        "model = KerasClassifier(build_fn   = stacked_vanilla_rnn , \n",
        "                        epochs     = 50 , \n",
        "                        batch_size = 50 , \n",
        "                        verbose    = 1)\n",
        "model.fit(X_train , y_train)"
      ],
      "metadata": {
        "id": "QhbnT4sO-TLe"
      },
      "execution_count": null,
      "outputs": []
    },
    {
      "cell_type": "code",
      "source": [
        "model = KerasClassifier(build_fn   = stacked_vanilla_lstm , \n",
        "                        epochs     = 50 , \n",
        "                        batch_size = 50 , \n",
        "                        verbose    = 1)\n",
        "model.fit(X_train , y_train)"
      ],
      "metadata": {
        "colab": {
          "base_uri": "https://localhost:8080/"
        },
        "id": "HDQxMAzs-ksA",
        "outputId": "085d6800-9394-4adf-ebb5-9a67699651a2"
      },
      "execution_count": 74,
      "outputs": [
        {
          "output_type": "stream",
          "name": "stderr",
          "text": [
            "/usr/local/lib/python3.7/dist-packages/ipykernel_launcher.py:4: DeprecationWarning: KerasClassifier is deprecated, use Sci-Keras (https://github.com/adriangb/scikeras) instead. See https://www.adriangb.com/scikeras/stable/migration.html for help migrating.\n",
            "  after removing the cwd from sys.path.\n"
          ]
        },
        {
          "output_type": "stream",
          "name": "stdout",
          "text": [
            "Epoch 1/50\n"
          ]
        },
        {
          "output_type": "stream",
          "name": "stderr",
          "text": [
            "/usr/local/lib/python3.7/dist-packages/keras/optimizer_v2/adam.py:105: UserWarning: The `lr` argument is deprecated, use `learning_rate` instead.\n",
            "  super(Adam, self).__init__(name, **kwargs)\n"
          ]
        },
        {
          "output_type": "stream",
          "name": "stdout",
          "text": [
            "84/84 [==============================] - 38s 40ms/step - loss: 2.3257 - accuracy: 0.4911\n",
            "Epoch 2/50\n",
            "84/84 [==============================] - 3s 40ms/step - loss: 1.8397 - accuracy: 0.5043\n",
            "Epoch 3/50\n",
            "84/84 [==============================] - 3s 40ms/step - loss: 1.6956 - accuracy: 0.5766\n",
            "Epoch 4/50\n",
            "84/84 [==============================] - 3s 40ms/step - loss: 1.5520 - accuracy: 0.6273\n",
            "Epoch 5/50\n",
            "84/84 [==============================] - 3s 40ms/step - loss: 1.5222 - accuracy: 0.6440\n",
            "Epoch 6/50\n",
            "84/84 [==============================] - 3s 40ms/step - loss: 1.5071 - accuracy: 0.6474\n",
            "Epoch 7/50\n",
            "84/84 [==============================] - 3s 40ms/step - loss: 1.5038 - accuracy: 0.6440\n",
            "Epoch 8/50\n",
            "84/84 [==============================] - 3s 40ms/step - loss: 1.4911 - accuracy: 0.6502\n",
            "Epoch 9/50\n",
            "84/84 [==============================] - 3s 40ms/step - loss: 1.4898 - accuracy: 0.6512\n",
            "Epoch 10/50\n",
            "84/84 [==============================] - 3s 40ms/step - loss: 1.4779 - accuracy: 0.6526\n",
            "Epoch 11/50\n",
            "84/84 [==============================] - 3s 40ms/step - loss: 1.4674 - accuracy: 0.6533\n",
            "Epoch 12/50\n",
            "84/84 [==============================] - 3s 40ms/step - loss: 1.4636 - accuracy: 0.6519\n",
            "Epoch 13/50\n",
            "84/84 [==============================] - 3s 40ms/step - loss: 1.4639 - accuracy: 0.6548\n",
            "Epoch 14/50\n",
            "84/84 [==============================] - 3s 40ms/step - loss: 1.4574 - accuracy: 0.6519\n",
            "Epoch 15/50\n",
            "84/84 [==============================] - 3s 40ms/step - loss: 1.4520 - accuracy: 0.6522\n",
            "Epoch 16/50\n",
            "84/84 [==============================] - 3s 40ms/step - loss: 1.4448 - accuracy: 0.6543\n",
            "Epoch 17/50\n",
            "84/84 [==============================] - 3s 40ms/step - loss: 1.4504 - accuracy: 0.6514\n",
            "Epoch 18/50\n",
            "84/84 [==============================] - 3s 40ms/step - loss: 1.4296 - accuracy: 0.6615\n",
            "Epoch 19/50\n",
            "84/84 [==============================] - 3s 40ms/step - loss: 1.4217 - accuracy: 0.6598\n",
            "Epoch 20/50\n",
            "84/84 [==============================] - 3s 40ms/step - loss: 1.4180 - accuracy: 0.6605\n",
            "Epoch 21/50\n",
            "84/84 [==============================] - 3s 40ms/step - loss: 1.4527 - accuracy: 0.6426\n",
            "Epoch 22/50\n",
            "84/84 [==============================] - 3s 40ms/step - loss: 1.4560 - accuracy: 0.6450\n",
            "Epoch 23/50\n",
            "84/84 [==============================] - 3s 40ms/step - loss: 1.4377 - accuracy: 0.6455\n",
            "Epoch 24/50\n",
            "84/84 [==============================] - 3s 40ms/step - loss: 1.4227 - accuracy: 0.6493\n",
            "Epoch 25/50\n",
            "84/84 [==============================] - 3s 40ms/step - loss: 1.4254 - accuracy: 0.6476\n",
            "Epoch 26/50\n",
            "84/84 [==============================] - 3s 40ms/step - loss: 1.4184 - accuracy: 0.6490\n",
            "Epoch 27/50\n",
            "84/84 [==============================] - 3s 40ms/step - loss: 1.4077 - accuracy: 0.6519\n",
            "Epoch 28/50\n",
            "84/84 [==============================] - 3s 40ms/step - loss: 1.3842 - accuracy: 0.6679\n",
            "Epoch 29/50\n",
            "84/84 [==============================] - 3s 40ms/step - loss: 1.3593 - accuracy: 0.6727\n",
            "Epoch 30/50\n",
            "84/84 [==============================] - 3s 40ms/step - loss: 1.3835 - accuracy: 0.6684\n",
            "Epoch 31/50\n",
            "84/84 [==============================] - 3s 40ms/step - loss: 1.3507 - accuracy: 0.6703\n",
            "Epoch 32/50\n",
            "84/84 [==============================] - 3s 40ms/step - loss: 1.3431 - accuracy: 0.6675\n",
            "Epoch 33/50\n",
            "84/84 [==============================] - 3s 40ms/step - loss: 1.3198 - accuracy: 0.6782\n",
            "Epoch 34/50\n",
            "84/84 [==============================] - 3s 40ms/step - loss: 1.3043 - accuracy: 0.6787\n",
            "Epoch 35/50\n",
            "84/84 [==============================] - 3s 40ms/step - loss: 1.2912 - accuracy: 0.6751\n",
            "Epoch 36/50\n",
            "84/84 [==============================] - 3s 40ms/step - loss: 1.2643 - accuracy: 0.6813\n",
            "Epoch 37/50\n",
            "84/84 [==============================] - 3s 40ms/step - loss: 1.2752 - accuracy: 0.6754\n",
            "Epoch 38/50\n",
            "84/84 [==============================] - 3s 40ms/step - loss: 1.2374 - accuracy: 0.6933\n",
            "Epoch 39/50\n",
            "84/84 [==============================] - 3s 40ms/step - loss: 1.2403 - accuracy: 0.6871\n",
            "Epoch 40/50\n",
            "84/84 [==============================] - 3s 40ms/step - loss: 1.2617 - accuracy: 0.6801\n",
            "Epoch 41/50\n",
            "84/84 [==============================] - 3s 40ms/step - loss: 1.2322 - accuracy: 0.6885\n",
            "Epoch 42/50\n",
            "84/84 [==============================] - 3s 40ms/step - loss: 1.2050 - accuracy: 0.6914\n",
            "Epoch 43/50\n",
            "84/84 [==============================] - 3s 40ms/step - loss: 1.1849 - accuracy: 0.7000\n",
            "Epoch 44/50\n",
            "84/84 [==============================] - 3s 40ms/step - loss: 1.2187 - accuracy: 0.6957\n",
            "Epoch 45/50\n",
            "84/84 [==============================] - 3s 40ms/step - loss: 1.2005 - accuracy: 0.7010\n",
            "Epoch 46/50\n",
            "84/84 [==============================] - 3s 40ms/step - loss: 1.1807 - accuracy: 0.7024\n",
            "Epoch 47/50\n",
            "84/84 [==============================] - 3s 40ms/step - loss: 1.1657 - accuracy: 0.7089\n",
            "Epoch 48/50\n",
            "84/84 [==============================] - 3s 40ms/step - loss: 1.1641 - accuracy: 0.7017\n",
            "Epoch 49/50\n",
            "84/84 [==============================] - 3s 40ms/step - loss: 1.1633 - accuracy: 0.7067\n",
            "Epoch 50/50\n",
            "84/84 [==============================] - 3s 40ms/step - loss: 1.1436 - accuracy: 0.7115\n"
          ]
        },
        {
          "output_type": "execute_result",
          "data": {
            "text/plain": [
              "<keras.callbacks.History at 0x7feafcc4f410>"
            ]
          },
          "metadata": {},
          "execution_count": 74
        }
      ]
    },
    {
      "cell_type": "code",
      "source": [
        ""
      ],
      "metadata": {
        "id": "q7U47umBUVpz"
      },
      "execution_count": null,
      "outputs": []
    }
  ]
}