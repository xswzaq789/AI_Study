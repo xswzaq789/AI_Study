{
 "cells": [
  {
   "cell_type": "markdown",
   "metadata": {},
   "source": [
    "###  모델 변환\n",
    "#### 케라스 모델 변환\n",
    "- 텐스플로의 tf.keras 모듈을 통해 케라스 모델을 바로 만들거나\n",
    "- saveModel, HDF5포맷으로 저장된 모델을 케라스 모델로 불러와서 텐서플로 라이트 모델로 변환할 수 있다.\n",
    "- 여기서는 다층 퍼셉트론 모델을 이용하여 변환하는 방법을 알아보겠다."
   ]
  },
  {
   "cell_type": "code",
   "execution_count": 6,
   "metadata": {},
   "outputs": [],
   "source": [
    "import tensorflow as tf\n",
    "\n",
    "mnist = tf.keras.datasets.mnist\n",
    "(x_train, y_train), (x_test, y_test) = mnist.load_data()"
   ]
  },
  {
   "cell_type": "code",
   "execution_count": 7,
   "metadata": {
    "tags": []
   },
   "outputs": [
    {
     "name": "stdout",
     "output_type": "stream",
     "text": [
      "Epoch 1/5\n",
      "1875/1875 [==============================] - 6s 3ms/step - loss: 0.2541 - accuracy: 0.9277\n",
      "Epoch 2/5\n",
      "1875/1875 [==============================] - 5s 3ms/step - loss: 0.1104 - accuracy: 0.9671\n",
      "Epoch 3/5\n",
      "1875/1875 [==============================] - 5s 2ms/step - loss: 0.0761 - accuracy: 0.9768\n",
      "Epoch 4/5\n",
      "1875/1875 [==============================] - 5s 3ms/step - loss: 0.0568 - accuracy: 0.9828\n",
      "Epoch 5/5\n",
      "1875/1875 [==============================] - 5s 2ms/step - loss: 0.0445 - accuracy: 0.9863\n"
     ]
    },
    {
     "data": {
      "text/plain": [
       "<keras.callbacks.History at 0x1ad7466ae50>"
      ]
     },
     "execution_count": 7,
     "metadata": {},
     "output_type": "execute_result"
    }
   ],
   "source": [
    "import tensorflow as tf\n",
    "\n",
    "mnist = tf.keras.datasets.mnist\n",
    "(x_train, y_train), (x_test, y_test) = mnist.load_data()\n",
    "\n",
    "x_train, x_test = x_train / 255.0, x_test / 255.0\n",
    "\n",
    "mlp_model = tf.keras.models.Sequential([\n",
    "  tf.keras.layers.Flatten(input_shape=(28, 28)),\n",
    "  tf.keras.layers.Dense(128, activation='relu'),\n",
    "  tf.keras.layers.Dense(10, activation='softmax')\n",
    "])\n",
    "\n",
    "mlp_model.compile(optimizer='adam', loss='sparse_categorical_crossentropy', metrics=['accuracy'])\n",
    "mlp_model.fit(x_train, y_train, epochs=5)"
   ]
  },
  {
   "cell_type": "markdown",
   "metadata": {},
   "source": [
    "- mlp_model을 텐서플로 라이트 모델로 변환"
   ]
  },
  {
   "cell_type": "code",
   "execution_count": 8,
   "metadata": {},
   "outputs": [
    {
     "name": "stdout",
     "output_type": "stream",
     "text": [
      "INFO:tensorflow:Assets written to: C:\\Users\\yourm\\AppData\\Local\\Temp\\tmpflwv_bnx\\assets\n"
     ]
    },
    {
     "name": "stderr",
     "output_type": "stream",
     "text": [
      "INFO:tensorflow:Assets written to: C:\\Users\\yourm\\AppData\\Local\\Temp\\tmpflwv_bnx\\assets\n",
      "WARNING:absl:Buffer deduplication procedure will be skipped when flatbuffer library is not properly loaded\n"
     ]
    }
   ],
   "source": [
    "# Keras 모델 변환\n",
    "converter = tf.lite.TFLiteConverter.from_keras_model(mlp_model)\n",
    "tflite_model = converter.convert()"
   ]
  },
  {
   "cell_type": "code",
   "execution_count": 9,
   "metadata": {},
   "outputs": [],
   "source": [
    "# 변환한 모델 tflite로 저장\n",
    "with open('./keras_model_20220430_1.tflite', 'wb') as f:\n",
    "  f.write(tflite_model)"
   ]
  },
  {
   "cell_type": "markdown",
   "metadata": {},
   "source": [
    "#### savedModel 변환\n",
    "- 텐서플로 모델을 저장하는 방법\n",
    "- 1. 학습된 파라미터만 저장하는 방법\n",
    "-  파라미터만 저장하려면 체크포인트를 사용 - 모델이 사용한 모든 파라미터 값을 저장하고 모델의 아키텍처는 저장하지 않는다.\n",
    "\n",
    "- 2. 모델 전체를 저장하는 방법\n",
    "-  모델 아키텍처, 가중치, 컴파일 관련 설정 값, 옵티마이저를 모두 저장해야하므로 \n",
    "- 2-1 saveModle - 텐서플로 v2에서 권장\n",
    "- 2-2 HDF5 포맷 - 텐서플로 v1 에서 주로 사용되던 방식"
   ]
  },
  {
   "cell_type": "code",
   "execution_count": 7,
   "metadata": {
    "tags": []
   },
   "outputs": [
    {
     "name": "stdout",
     "output_type": "stream",
     "text": [
      "INFO:tensorflow:Assets written to: ./mlp_model/assets\n"
     ]
    },
    {
     "name": "stderr",
     "output_type": "stream",
     "text": [
      "INFO:tensorflow:Assets written to: ./mlp_model/assets\n"
     ]
    },
    {
     "name": "stdout",
     "output_type": "stream",
     "text": [
      "INFO:tensorflow:Assets written to: ./mlp_model/assets\n"
     ]
    },
    {
     "name": "stderr",
     "output_type": "stream",
     "text": [
      "INFO:tensorflow:Assets written to: ./mlp_model/assets\n"
     ]
    }
   ],
   "source": [
    "# SavedModel 저장\n",
    "tf.saved_model.save(mlp_model, \"./mlp_model/\")\n",
    "# 또는\n",
    "mlp_model.save(\"./mlp_model/\")"
   ]
  },
  {
   "cell_type": "code",
   "execution_count": 6,
   "metadata": {},
   "outputs": [],
   "source": [
    "# HDF5 저장\n",
    "mlp_model.save(\"./mlp_model.h5\")"
   ]
  },
  {
   "cell_type": "code",
   "execution_count": 8,
   "metadata": {},
   "outputs": [],
   "source": [
    "# SavedModel 불러오기\n",
    "saved_model = tf.keras.models.load_model(\"./mlp_model/\")"
   ]
  },
  {
   "cell_type": "code",
   "execution_count": 12,
   "metadata": {},
   "outputs": [],
   "source": [
    "# # HDF5 불러오기\n",
    "h5_model = tf.keras.models.load_model(\"./mlp_model.h5\")"
   ]
  },
  {
   "cell_type": "code",
   "execution_count": 9,
   "metadata": {},
   "outputs": [
    {
     "name": "stderr",
     "output_type": "stream",
     "text": [
      "WARNING:absl:Buffer deduplication procedure will be skipped when flatbuffer library is not properly loaded\n"
     ]
    }
   ],
   "source": [
    "# SavedModel 변환\n",
    "# 이방식 추천\n",
    "converter = tf.lite.TFLiteConverter.from_saved_model(\"./mlp_model/\")\n",
    "tflite_model = converter.convert()"
   ]
  },
  {
   "cell_type": "code",
   "execution_count": 10,
   "metadata": {},
   "outputs": [],
   "source": [
    "with open('./saved_model.tflite', 'wb') as f:\n",
    "  f.write(tflite_model)"
   ]
  },
  {
   "cell_type": "markdown",
   "metadata": {},
   "source": [
    "#### Concrete 함수 변환\n",
    "- 텐서플로 v2에는 즉시 실행 모드가 추가되었으며 기본으로 활성화되어 있다.\n",
    "- 모델을 고도화하기 위해 즉시 실행 모드보다 성능과 이식성이 뛰어난 그래프 모드를 사용하기도 한다.\n",
    "- 즉시 실행 모드로 동작하는 파이썬 함수에 @tf.function 데코레이터를 붙이거나 \n",
    "- 모델과 함수를 tf.function() 함수에 인자로 전달하면 자동으로 그래프 모드로 변환된다.\n"
   ]
  },
  {
   "cell_type": "code",
   "execution_count": 17,
   "metadata": {
    "tags": []
   },
   "outputs": [],
   "source": [
    "class Inc(tf.keras.layers.Layer):\n",
    "    def call(self, inputs):\n",
    "        return inputs + 1\n",
    "inc = Inc()\n"
   ]
  },
  {
   "cell_type": "markdown",
   "metadata": {},
   "source": [
    "#### Inc 레이어의 call() 함수에 @tf.function 데코레이터를 추가하여 그래프 모드로 바꿀 수 있다."
   ]
  },
  {
   "cell_type": "code",
   "execution_count": 18,
   "metadata": {},
   "outputs": [],
   "source": [
    "class Inc_Graph(tf.keras.layers.Layer):\n",
    "    @tf.function\n",
    "    def call(self, inputs):\n",
    "        return inputs + 1\n",
    "inc_g = Inc_Graph()"
   ]
  },
  {
   "cell_type": "markdown",
   "metadata": {},
   "source": [
    "#### Inc클래서의 인스턴스를 그래프 모드로 변환"
   ]
  },
  {
   "cell_type": "code",
   "execution_count": 19,
   "metadata": {
    "tags": []
   },
   "outputs": [],
   "source": [
    "inc_g2 = tf.function(inc)\n"
   ]
  },
  {
   "cell_type": "code",
   "execution_count": 20,
   "metadata": {
    "tags": []
   },
   "outputs": [
    {
     "name": "stdout",
     "output_type": "stream",
     "text": [
      "tf.Tensor(4, shape=(), dtype=int32)\n",
      "WARNING:tensorflow:5 out of the last 6 calls to <function Inc_Graph.call at 0x000001D786AA5AF0> triggered tf.function retracing. Tracing is expensive and the excessive number of tracings could be due to (1) creating @tf.function repeatedly in a loop, (2) passing tensors with different shapes, (3) passing Python objects instead of tensors. For (1), please define your @tf.function outside of the loop. For (2), @tf.function has experimental_relax_shapes=True option that relaxes argument shapes that can avoid unnecessary retracing. For (3), please refer to https://www.tensorflow.org/guide/function#controlling_retracing and https://www.tensorflow.org/api_docs/python/tf/function for  more details.\n"
     ]
    },
    {
     "name": "stderr",
     "output_type": "stream",
     "text": [
      "WARNING:tensorflow:5 out of the last 6 calls to <function Inc_Graph.call at 0x000001D786AA5AF0> triggered tf.function retracing. Tracing is expensive and the excessive number of tracings could be due to (1) creating @tf.function repeatedly in a loop, (2) passing tensors with different shapes, (3) passing Python objects instead of tensors. For (1), please define your @tf.function outside of the loop. For (2), @tf.function has experimental_relax_shapes=True option that relaxes argument shapes that can avoid unnecessary retracing. For (3), please refer to https://www.tensorflow.org/guide/function#controlling_retracing and https://www.tensorflow.org/api_docs/python/tf/function for  more details.\n"
     ]
    },
    {
     "name": "stdout",
     "output_type": "stream",
     "text": [
      "tf.Tensor([4 3], shape=(2,), dtype=int32)\n",
      "WARNING:tensorflow:6 out of the last 7 calls to <function Inc_Graph.call at 0x000001D786AA5AF0> triggered tf.function retracing. Tracing is expensive and the excessive number of tracings could be due to (1) creating @tf.function repeatedly in a loop, (2) passing tensors with different shapes, (3) passing Python objects instead of tensors. For (1), please define your @tf.function outside of the loop. For (2), @tf.function has experimental_relax_shapes=True option that relaxes argument shapes that can avoid unnecessary retracing. For (3), please refer to https://www.tensorflow.org/guide/function#controlling_retracing and https://www.tensorflow.org/api_docs/python/tf/function for  more details.\n"
     ]
    },
    {
     "name": "stderr",
     "output_type": "stream",
     "text": [
      "WARNING:tensorflow:6 out of the last 7 calls to <function Inc_Graph.call at 0x000001D786AA5AF0> triggered tf.function retracing. Tracing is expensive and the excessive number of tracings could be due to (1) creating @tf.function repeatedly in a loop, (2) passing tensors with different shapes, (3) passing Python objects instead of tensors. For (1), please define your @tf.function outside of the loop. For (2), @tf.function has experimental_relax_shapes=True option that relaxes argument shapes that can avoid unnecessary retracing. For (3), please refer to https://www.tensorflow.org/guide/function#controlling_retracing and https://www.tensorflow.org/api_docs/python/tf/function for  more details.\n"
     ]
    },
    {
     "name": "stdout",
     "output_type": "stream",
     "text": [
      "tf.Tensor(\n",
      "[[4. 3.]\n",
      " [2. 6.]], shape=(2, 2), dtype=float32)\n",
      "tf.Tensor(4, shape=(), dtype=int32)\n",
      "tf.Tensor([4 3], shape=(2,), dtype=int32)\n",
      "tf.Tensor(\n",
      "[[4. 3.]\n",
      " [2. 6.]], shape=(2, 2), dtype=float32)\n"
     ]
    }
   ],
   "source": [
    "print(inc_g(tf.constant(3)))\n",
    "print(inc_g(tf.constant([3, 2])))\n",
    "print(inc_g(tf.constant([[3, 2], [1.0, 5.0]])))\n",
    "\n",
    "print(inc_g2(tf.constant(3)))\n",
    "print(inc_g2(tf.constant([3, 2])))\n",
    "print(inc_g2(tf.constant([[3, 2], [1.0, 5.0]])))"
   ]
  },
  {
   "cell_type": "markdown",
   "metadata": {},
   "source": [
    "#### concrete 함수 \n",
    "- 텐스플로 그래프는 일반적인 파이썬 함수와 달리 정적인 데이터 타입과 형태가 필요하기 때문에 호출 시\n",
    "- 전달받은 파라미터의 타입과 형태에 맞는 Concrete함수를 만든다.\n",
    "- 타입과 형태를 묶어서 시그니처(signature)라고 한다.\n"
   ]
  },
  {
   "cell_type": "code",
   "execution_count": 21,
   "metadata": {
    "tags": []
   },
   "outputs": [
    {
     "name": "stdout",
     "output_type": "stream",
     "text": [
      "tf.Tensor(5, shape=(), dtype=int32)\n",
      "tf.Tensor(5, shape=(), dtype=int32)\n"
     ]
    }
   ],
   "source": [
    "print(inc_g(tf.constant(4)))\n",
    "print(inc_g2(tf.constant(4)))"
   ]
  },
  {
   "cell_type": "markdown",
   "metadata": {},
   "source": [
    "#### 시그니처별 Concrete함수는 get_concrete_function() 함수에 시그니처를 입력하여 얻을 수 있다."
   ]
  },
  {
   "cell_type": "code",
   "execution_count": 27,
   "metadata": {
    "tags": []
   },
   "outputs": [
    {
     "name": "stdout",
     "output_type": "stream",
     "text": [
      "tf.Tensor([[2. 3. 4.]], shape=(1, 3), dtype=float32)\n"
     ]
    }
   ],
   "source": [
    "concrete_fun = inc_g.call.get_concrete_function(tf.TensorSpec(shape=(1, 3), dtype=tf.float32))\n",
    "#print(concrete_fun(tf.constant([[1.0, 2.0, 3.0]])))\n",
    "\n",
    "#oncrete_fun = inc_g2.get_concrete_function(tf.TensorSpec(shape=(1, 3), dtype=tf.float32))\n",
    "print(concrete_fun(tf.constant([[1.0, 2.0, 3.0]])))"
   ]
  },
  {
   "cell_type": "markdown",
   "metadata": {},
   "source": [
    "#### tf.function() 함수를 이용한 그래프 모드 적용"
   ]
  },
  {
   "cell_type": "code",
   "execution_count": 30,
   "metadata": {},
   "outputs": [],
   "source": [
    "mlp_model = tf.keras.models.Sequential([\n",
    "  tf.keras.layers.Flatten(input_shape=(28, 28)),\n",
    "  tf.keras.layers.Dense(128, activation='relu'),\n",
    "  tf.keras.layers.Dense(10, activation='softmax')\n",
    "])\n",
    "\n",
    "graph_model = tf.function(mlp_model)\n",
    "concrete_func = graph_model.get_concrete_function(\n",
    "  tf.TensorSpec(shape=mlp_model.inputs[0].shape, dtype=mlp_model.inputs[0].dtype))\n"
   ]
  },
  {
   "cell_type": "code",
   "execution_count": 31,
   "metadata": {},
   "outputs": [
    {
     "name": "stderr",
     "output_type": "stream",
     "text": [
      "WARNING:absl:Please consider providing the trackable_obj argument in the from_concrete_functions. Providing without the trackable_obj argument is deprecated and it will use the deprecated conversion path.\n",
      "WARNING:absl:Buffer deduplication procedure will be skipped when flatbuffer library is not properly loaded\n"
     ]
    }
   ],
   "source": [
    "converter = tf.lite.TFLiteConverter.from_concrete_functions([concrete_func])\n",
    "tflite_model = converter.convert()\n",
    "\n",
    "with open('./concrete_func_model.tflite', 'wb') as f:\n",
    "  f.write(tflite_model)"
   ]
  },
  {
   "cell_type": "markdown",
   "metadata": {},
   "source": [
    "#### @tf.function 데코레이터를 이용한 그래프 모드 적용"
   ]
  },
  {
   "cell_type": "code",
   "execution_count": 32,
   "metadata": {
    "tags": []
   },
   "outputs": [],
   "source": [
    "class MLP_Model(tf.keras.Model):\n",
    "    def __init__(self):\n",
    "        super(MLP_Model, self).__init__()\n",
    "        self.flatten = tf.keras.layers.Flatten()\n",
    "        self.dense = tf.keras.layers.Dense(128, activation='relu')\n",
    "        self.softmax = tf.keras.layers.Dense(10, activation='softmax')\n",
    "    \n",
    "    @tf.function\n",
    "    def call(self, inputs):\n",
    "        x = self.flatten(inputs)\n",
    "        x = self.dense(x)\n",
    "        return self.softmax(x)\n",
    "\n",
    "mlp_model = MLP_Model()\n",
    "concrete_func = mlp_model.call.get_concrete_function(\n",
    "    tf.TensorSpec(shape=(None, 28, 28), dtype=tf.float32))\n"
   ]
  },
  {
   "cell_type": "code",
   "execution_count": 33,
   "metadata": {},
   "outputs": [
    {
     "name": "stderr",
     "output_type": "stream",
     "text": [
      "WARNING:absl:Please consider providing the trackable_obj argument in the from_concrete_functions. Providing without the trackable_obj argument is deprecated and it will use the deprecated conversion path.\n",
      "WARNING:absl:Buffer deduplication procedure will be skipped when flatbuffer library is not properly loaded\n"
     ]
    }
   ],
   "source": [
    "converter = tf.lite.TFLiteConverter.from_concrete_functions([concrete_func])\n",
    "tflite_model = converter.convert()\n",
    "\n",
    "with open('./concrete_func_model.tflite', 'wb') as f:\n",
    "  f.write(tflite_model)"
   ]
  },
  {
   "cell_type": "markdown",
   "metadata": {},
   "source": [
    "### 텐스플로 허브의 TFLite모델\n",
    "- 텐서플로 허브는 ffilte 형태로 변환이 완료된 모델도 제공\n",
    "- 텐서플로 허브 메인 페이지에서 왼쪽 Model format 의 TFLite 를 선택 다운"
   ]
  },
  {
   "cell_type": "markdown",
   "metadata": {},
   "source": [
    "### 기기배포\n",
    "- 안드로이드 스튜디오에서 프로젝트에 assets폴더를 생성 - tflite파일을 복사 (배포완료..!!)\n",
    "- 1) 모듈 이름을 마우스 오른쪽 버튼으로 클릭 [New] - [Folder] - [Assets Folder] 선택\n",
    "- 2) assets 폴더를 생성할 수 있는 창이 나타나면 Finish 를 클릭\n",
    "- 3) assets폴더 생성\n",
    "- 4) assets폴더가 생성된 경로는 - Project root/모듈명/src/main/assets\n",
    "- 5) 이 위치에 tflite 파일을 복사하거나 안드로이드 스튜디오에서 assets폴더에 바로  드래그앤드롭\n",
    "- 6) assets 폴더 아래에 tflite 파일이 보이면 제대로 배포된것"
   ]
  }
 ],
 "metadata": {
  "kernelspec": {
   "display_name": "Python 3 (ipykernel)",
   "language": "python",
   "name": "python3"
  },
  "language_info": {
   "codemirror_mode": {
    "name": "ipython",
    "version": 3
   },
   "file_extension": ".py",
   "mimetype": "text/x-python",
   "name": "python",
   "nbconvert_exporter": "python",
   "pygments_lexer": "ipython3",
   "version": "3.9.7"
  }
 },
 "nbformat": 4,
 "nbformat_minor": 2
}
